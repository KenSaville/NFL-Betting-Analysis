{
 "cells": [
  {
   "cell_type": "code",
   "execution_count": 2,
   "metadata": {},
   "outputs": [],
   "source": [
    "# Dependencies and Setup\n",
    "import pandas as pd\n",
    "\n",
    "\n",
    "import matplotlib.pyplot as plt\n",
    "import scipy.stats as st\n",
    "pd.set_option(\"display.precision\", 2)\n",
    "import numpy as np\n",
    "from scipy import stats\n",
    "import os\n"
   ]
  },
  {
   "cell_type": "code",
   "execution_count": 3,
   "metadata": {},
   "outputs": [],
   "source": [
    "os.chdir(\"C://Users//ksaville//Desktop/NFL-Betting-Analysis/\")\n",
    "os.getcwd()\n",
    "nfl_data = pd.read_csv(\"raw_data/spreadspoke_scores.csv\")"
   ]
  },
  {
   "cell_type": "code",
   "execution_count": 11,
   "metadata": {},
   "outputs": [],
   "source": []
  },
  {
   "cell_type": "code",
   "execution_count": 8,
   "metadata": {},
   "outputs": [
    {
     "data": {
      "text/plain": [
       "schedule_date          12934\n",
       "schedule_season        12934\n",
       "schedule_week          12934\n",
       "schedule_playoff       12934\n",
       "team_home              12934\n",
       "score_home             12797\n",
       "score_away             12797\n",
       "team_away              12934\n",
       "team_favorite_id       10318\n",
       "spread_favorite        10318\n",
       "over_under_line        10308\n",
       "stadium                12934\n",
       "stadium_neutral        12934\n",
       "weather_temperature    12008\n",
       "weather_wind_mph       12008\n",
       "weather_humidity        8388\n",
       "weather_detail          2711\n",
       "dtype: int64"
      ]
     },
     "execution_count": 8,
     "metadata": {},
     "output_type": "execute_result"
    }
   ],
   "source": [
    "nfl_data.head()\n",
    "home_mean = np.mean(nfl_data[\"score_home\"])\n",
    "away_mean = np.mean(nfl_data[\"score_away\"])\n",
    "nfl_data.count()\n",
    "\n",
    "\n"
   ]
  },
  {
   "cell_type": "code",
   "execution_count": 26,
   "metadata": {},
   "outputs": [
    {
     "data": {
      "text/plain": [
       "'C:\\\\Users\\\\ksaville\\\\Desktop\\\\NFL-Betting-Analysis'"
      ]
     },
     "execution_count": 26,
     "metadata": {},
     "output_type": "execute_result"
    }
   ],
   "source": [
    "os.getcwd()"
   ]
  },
  {
   "cell_type": "code",
   "execution_count": 18,
   "metadata": {},
   "outputs": [],
   "source": [
    "#nfl_data['weather_detail']\n",
    "\n",
    "nfl_data_drop = nfl_data.dropna(subset = ['weather_detail'])"
   ]
  },
  {
   "cell_type": "code",
   "execution_count": 26,
   "metadata": {},
   "outputs": [
    {
     "data": {
      "text/plain": [
       "Green Bay Packers           135\n",
       "Tampa Bay Buccaneers        135\n",
       "San Francisco 49ers         131\n",
       "Chicago Bears               126\n",
       "Atlanta Falcons             111\n",
       "Minnesota Vikings           100\n",
       "Carolina Panthers            93\n",
       "Detroit Lions                91\n",
       "Kansas City Chiefs           86\n",
       "New Orleans Saints           86\n",
       "Denver Broncos               86\n",
       "Cleveland Browns             85\n",
       "Cincinnati Bengals           81\n",
       "New England Patriots         81\n",
       "New York Jets                77\n",
       "Philadelphia Eagles          77\n",
       "Seattle Seahawks             75\n",
       "Miami Dolphins               74\n",
       "Buffalo Bills                74\n",
       "Pittsburgh Steelers          73\n",
       "San Diego Chargers           72\n",
       "Dallas Cowboys               72\n",
       "Washington Redskins          71\n",
       "New York Giants              71\n",
       "Jacksonville Jaguars         67\n",
       "Tennessee Titans             63\n",
       "Arizona Cardinals            62\n",
       "Indianapolis Colts           53\n",
       "Los Angeles Rams             50\n",
       "St. Louis Rams               48\n",
       "Oakland Raiders              48\n",
       "Houston Texans               38\n",
       "Baltimore Ravens             35\n",
       "Los Angeles Raiders          24\n",
       "Houston Oilers               22\n",
       "St. Louis Cardinals          10\n",
       "Phoenix Cardinals            10\n",
       "Los Angeles Chargers          6\n",
       "Baltimore Colts               6\n",
       "Washington Football Team      3\n",
       "Tennessee Oilers              2\n",
       "Las Vegas Raiders             1\n",
       "Name: team_away, dtype: int64"
      ]
     },
     "execution_count": 26,
     "metadata": {},
     "output_type": "execute_result"
    }
   ],
   "source": [
    "nfl_data_drop['team_away'].value_counts()"
   ]
  },
  {
   "cell_type": "code",
   "execution_count": 23,
   "metadata": {},
   "outputs": [
    {
     "data": {
      "text/plain": [
       "2711"
      ]
     },
     "execution_count": 23,
     "metadata": {},
     "output_type": "execute_result"
    }
   ],
   "source": [
    "nfl_data_drop['weather_detail'].count()"
   ]
  },
  {
   "cell_type": "code",
   "execution_count": 21,
   "metadata": {},
   "outputs": [
    {
     "data": {
      "text/plain": [
       "353      DOME\n",
       "385      DOME\n",
       "398      DOME\n",
       "422      DOME\n",
       "475      DOME\n",
       "         ... \n",
       "12906    DOME\n",
       "12908    DOME\n",
       "12924    DOME\n",
       "12925    DOME\n",
       "12926    DOME\n",
       "Name: weather_detail, Length: 2711, dtype: object"
      ]
     },
     "execution_count": 21,
     "metadata": {},
     "output_type": "execute_result"
    }
   ],
   "source": [
    "nfl_data_drop['weather_detail']"
   ]
  },
  {
   "cell_type": "code",
   "execution_count": null,
   "metadata": {},
   "outputs": [],
   "source": []
  }
 ],
 "metadata": {
  "kernelspec": {
   "display_name": "Python 3",
   "language": "python",
   "name": "python3"
  },
  "language_info": {
   "codemirror_mode": {
    "name": "ipython",
    "version": 3
   },
   "file_extension": ".py",
   "mimetype": "text/x-python",
   "name": "python",
   "nbconvert_exporter": "python",
   "pygments_lexer": "ipython3",
   "version": "3.8.3"
  }
 },
 "nbformat": 4,
 "nbformat_minor": 4
}
