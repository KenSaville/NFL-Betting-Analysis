{
 "cells": [
  {
   "cell_type": "code",
   "execution_count": 1,
   "metadata": {},
   "outputs": [],
   "source": [
    "# Dependencies and Setup\n",
    "import pandas as pd\n",
    "\n",
    "\n",
    "import matplotlib.pyplot as plt\n",
    "import scipy.stats as st\n",
    "pd.set_option(\"display.precision\", 2)\n",
    "import numpy as np\n",
    "from scipy import stats\n",
    "import os\n",
    "import datetime as dt\n",
    "import random\n",
    "from scipy.stats import linregress\n",
    "import scipy.stats as stats\n",
    "import seaborn as sns\n"
   ]
  },
  {
   "cell_type": "code",
   "execution_count": 2,
   "metadata": {},
   "outputs": [],
   "source": [
    "#set working directory\n",
    "os.chdir(\"C://Users//ksaville//Desktop/NFL-Betting-Analysis/\")\n",
    "os.getcwd()\n",
    "nfl = pd.read_csv(\"raw_data/spreadspoke_scores.csv\")"
   ]
  },
  {
   "cell_type": "markdown",
   "metadata": {},
   "source": [
    "# Introduction:  \n",
    "\n",
    "The data for this analysis was obtained from https://www.kaggle.com/tobycrabtree/nfl-scores-and-betting-data.  Below is the desription of this data from Kaggle.\n",
    "\n",
    "National Football League (NFL) game results since 1966 with betting odds information since 1979. Dataset was created from a variety of sources including games and scores from a variety of public websites such as ESPN, NFL.com, and Pro Football Reference. Weather information is from NOAA data with NFLweather.com a good cross reference. Betting data was used from http://www.repole.com/sun4cast/data.html for 1978-2013 seasons. Pro-football-reference.com data was then cross referenced for betting lines and odds as well as weather data. From 2013 on betting data reflects lines available at sportsline.com.\n",
    "\n",
    "Our goal is to investigate the performance of teams relative to the betting spread and over/under line as well as to investigate the potential effects of weather on overall scoring."
   ]
  },
  {
   "cell_type": "markdown",
   "metadata": {},
   "source": [
    "# Exploring the Data"
   ]
  },
  {
   "cell_type": "code",
   "execution_count": 3,
   "metadata": {},
   "outputs": [
    {
     "data": {
      "text/plain": [
       "(12934, 17)"
      ]
     },
     "execution_count": 3,
     "metadata": {},
     "output_type": "execute_result"
    }
   ],
   "source": [
    "nfl.shape\n",
    "\n",
    "#shows there are 17 columns and 12934 rows of data"
   ]
  },
  {
   "cell_type": "code",
   "execution_count": 4,
   "metadata": {},
   "outputs": [
    {
     "data": {
      "text/html": [
       "<div>\n",
       "<style scoped>\n",
       "    .dataframe tbody tr th:only-of-type {\n",
       "        vertical-align: middle;\n",
       "    }\n",
       "\n",
       "    .dataframe tbody tr th {\n",
       "        vertical-align: top;\n",
       "    }\n",
       "\n",
       "    .dataframe thead th {\n",
       "        text-align: right;\n",
       "    }\n",
       "</style>\n",
       "<table border=\"1\" class=\"dataframe\">\n",
       "  <thead>\n",
       "    <tr style=\"text-align: right;\">\n",
       "      <th></th>\n",
       "      <th>schedule_date</th>\n",
       "      <th>schedule_season</th>\n",
       "      <th>schedule_week</th>\n",
       "      <th>schedule_playoff</th>\n",
       "      <th>team_home</th>\n",
       "      <th>score_home</th>\n",
       "      <th>score_away</th>\n",
       "      <th>team_away</th>\n",
       "      <th>team_favorite_id</th>\n",
       "      <th>spread_favorite</th>\n",
       "      <th>over_under_line</th>\n",
       "      <th>stadium</th>\n",
       "      <th>stadium_neutral</th>\n",
       "      <th>weather_temperature</th>\n",
       "      <th>weather_wind_mph</th>\n",
       "      <th>weather_humidity</th>\n",
       "      <th>weather_detail</th>\n",
       "    </tr>\n",
       "  </thead>\n",
       "  <tbody>\n",
       "    <tr>\n",
       "      <th>0</th>\n",
       "      <td>9/2/1966</td>\n",
       "      <td>1966</td>\n",
       "      <td>1</td>\n",
       "      <td>False</td>\n",
       "      <td>Miami Dolphins</td>\n",
       "      <td>14.0</td>\n",
       "      <td>23.0</td>\n",
       "      <td>Oakland Raiders</td>\n",
       "      <td>NaN</td>\n",
       "      <td>NaN</td>\n",
       "      <td>NaN</td>\n",
       "      <td>Orange Bowl</td>\n",
       "      <td>False</td>\n",
       "      <td>83.0</td>\n",
       "      <td>6.0</td>\n",
       "      <td>71</td>\n",
       "      <td>NaN</td>\n",
       "    </tr>\n",
       "    <tr>\n",
       "      <th>1</th>\n",
       "      <td>9/3/1966</td>\n",
       "      <td>1966</td>\n",
       "      <td>1</td>\n",
       "      <td>False</td>\n",
       "      <td>Houston Oilers</td>\n",
       "      <td>45.0</td>\n",
       "      <td>7.0</td>\n",
       "      <td>Denver Broncos</td>\n",
       "      <td>NaN</td>\n",
       "      <td>NaN</td>\n",
       "      <td>NaN</td>\n",
       "      <td>Rice Stadium</td>\n",
       "      <td>False</td>\n",
       "      <td>81.0</td>\n",
       "      <td>7.0</td>\n",
       "      <td>70</td>\n",
       "      <td>NaN</td>\n",
       "    </tr>\n",
       "    <tr>\n",
       "      <th>2</th>\n",
       "      <td>9/4/1966</td>\n",
       "      <td>1966</td>\n",
       "      <td>1</td>\n",
       "      <td>False</td>\n",
       "      <td>San Diego Chargers</td>\n",
       "      <td>27.0</td>\n",
       "      <td>7.0</td>\n",
       "      <td>Buffalo Bills</td>\n",
       "      <td>NaN</td>\n",
       "      <td>NaN</td>\n",
       "      <td>NaN</td>\n",
       "      <td>Balboa Stadium</td>\n",
       "      <td>False</td>\n",
       "      <td>70.0</td>\n",
       "      <td>7.0</td>\n",
       "      <td>82</td>\n",
       "      <td>NaN</td>\n",
       "    </tr>\n",
       "    <tr>\n",
       "      <th>3</th>\n",
       "      <td>9/9/1966</td>\n",
       "      <td>1966</td>\n",
       "      <td>2</td>\n",
       "      <td>False</td>\n",
       "      <td>Miami Dolphins</td>\n",
       "      <td>14.0</td>\n",
       "      <td>19.0</td>\n",
       "      <td>New York Jets</td>\n",
       "      <td>NaN</td>\n",
       "      <td>NaN</td>\n",
       "      <td>NaN</td>\n",
       "      <td>Orange Bowl</td>\n",
       "      <td>False</td>\n",
       "      <td>82.0</td>\n",
       "      <td>11.0</td>\n",
       "      <td>78</td>\n",
       "      <td>NaN</td>\n",
       "    </tr>\n",
       "    <tr>\n",
       "      <th>4</th>\n",
       "      <td>9/10/1966</td>\n",
       "      <td>1966</td>\n",
       "      <td>1</td>\n",
       "      <td>False</td>\n",
       "      <td>Green Bay Packers</td>\n",
       "      <td>24.0</td>\n",
       "      <td>3.0</td>\n",
       "      <td>Baltimore Colts</td>\n",
       "      <td>NaN</td>\n",
       "      <td>NaN</td>\n",
       "      <td>NaN</td>\n",
       "      <td>Lambeau Field</td>\n",
       "      <td>False</td>\n",
       "      <td>64.0</td>\n",
       "      <td>8.0</td>\n",
       "      <td>62</td>\n",
       "      <td>NaN</td>\n",
       "    </tr>\n",
       "  </tbody>\n",
       "</table>\n",
       "</div>"
      ],
      "text/plain": [
       "  schedule_date  schedule_season schedule_week  schedule_playoff  \\\n",
       "0      9/2/1966             1966             1             False   \n",
       "1      9/3/1966             1966             1             False   \n",
       "2      9/4/1966             1966             1             False   \n",
       "3      9/9/1966             1966             2             False   \n",
       "4     9/10/1966             1966             1             False   \n",
       "\n",
       "            team_home  score_home  score_away        team_away  \\\n",
       "0      Miami Dolphins        14.0        23.0  Oakland Raiders   \n",
       "1      Houston Oilers        45.0         7.0   Denver Broncos   \n",
       "2  San Diego Chargers        27.0         7.0    Buffalo Bills   \n",
       "3      Miami Dolphins        14.0        19.0    New York Jets   \n",
       "4   Green Bay Packers        24.0         3.0  Baltimore Colts   \n",
       "\n",
       "  team_favorite_id  spread_favorite over_under_line         stadium  \\\n",
       "0              NaN              NaN             NaN     Orange Bowl   \n",
       "1              NaN              NaN             NaN    Rice Stadium   \n",
       "2              NaN              NaN             NaN  Balboa Stadium   \n",
       "3              NaN              NaN             NaN     Orange Bowl   \n",
       "4              NaN              NaN             NaN   Lambeau Field   \n",
       "\n",
       "   stadium_neutral  weather_temperature  weather_wind_mph weather_humidity  \\\n",
       "0            False                 83.0               6.0               71   \n",
       "1            False                 81.0               7.0               70   \n",
       "2            False                 70.0               7.0               82   \n",
       "3            False                 82.0              11.0               78   \n",
       "4            False                 64.0               8.0               62   \n",
       "\n",
       "  weather_detail  \n",
       "0            NaN  \n",
       "1            NaN  \n",
       "2            NaN  \n",
       "3            NaN  \n",
       "4            NaN  "
      ]
     },
     "execution_count": 4,
     "metadata": {},
     "output_type": "execute_result"
    }
   ],
   "source": [
    "nfl.head()\n",
    "\n",
    "#Shows that the first games were from 1966.  (note: Betting info is only available starting in 1979)"
   ]
  },
  {
   "cell_type": "code",
   "execution_count": 5,
   "metadata": {},
   "outputs": [
    {
     "data": {
      "text/plain": [
       "Index(['schedule_date', 'schedule_season', 'schedule_week', 'schedule_playoff',\n",
       "       'team_home', 'score_home', 'score_away', 'team_away',\n",
       "       'team_favorite_id', 'spread_favorite', 'over_under_line', 'stadium',\n",
       "       'stadium_neutral', 'weather_temperature', 'weather_wind_mph',\n",
       "       'weather_humidity', 'weather_detail'],\n",
       "      dtype='object')"
      ]
     },
     "execution_count": 5,
     "metadata": {},
     "output_type": "execute_result"
    }
   ],
   "source": [
    "nfl.columns\n",
    "# shows the names of all the columns"
   ]
  },
  {
   "cell_type": "code",
   "execution_count": 6,
   "metadata": {},
   "outputs": [
    {
     "data": {
      "text/plain": [
       "schedule_date           object\n",
       "schedule_season          int64\n",
       "schedule_week           object\n",
       "schedule_playoff          bool\n",
       "team_home               object\n",
       "score_home             float64\n",
       "score_away             float64\n",
       "team_away               object\n",
       "team_favorite_id        object\n",
       "spread_favorite        float64\n",
       "over_under_line         object\n",
       "stadium                 object\n",
       "stadium_neutral           bool\n",
       "weather_temperature    float64\n",
       "weather_wind_mph       float64\n",
       "weather_humidity        object\n",
       "weather_detail          object\n",
       "dtype: object"
      ]
     },
     "execution_count": 6,
     "metadata": {},
     "output_type": "execute_result"
    }
   ],
   "source": [
    "#Check data types\n",
    "nfl.dtypes\n",
    "# Note - schedule date, week, over_under line, and humidity are object type.  \n",
    "# May need to change this to date format in subsequent analyses"
   ]
  },
  {
   "cell_type": "code",
   "execution_count": 7,
   "metadata": {},
   "outputs": [
    {
     "name": "stdout",
     "output_type": "stream",
     "text": [
      "schedule_date             0\n",
      "schedule_season           0\n",
      "schedule_week             0\n",
      "schedule_playoff          0\n",
      "team_home                 0\n",
      "score_home                0\n",
      "score_away                0\n",
      "team_away                 0\n",
      "team_favorite_id       2249\n",
      "spread_favorite        2249\n",
      "over_under_line        2259\n",
      "stadium                   0\n",
      "stadium_neutral           0\n",
      "weather_temperature       0\n",
      "weather_wind_mph          0\n",
      "weather_humidity       3584\n",
      "weather_detail         9297\n",
      "dtype: int64\n"
     ]
    }
   ],
   "source": [
    "#check to see of there are null values in the data\n",
    "nfl.isnull().sum()\n",
    "# yes there are:  137 in score_home and score_away, \n",
    "#2616 in team favorite, spread favorite\n",
    "#2626 in over_under.This probably reflects that betting data wasn't included before 1979\n",
    "# not sure about the 2626 vs 2616 discrepancy\n",
    "# 926 in weather_temp, weather_wind\n",
    "#4546 in humidity\n",
    "#10233 in weather_detail (this means rain, snow, fog, etc.)\n",
    "\n",
    "#Drop nas\n",
    "nfl = nfl.dropna(subset=['weather_temperature', 'weather_wind_mph', 'score_home', 'score_away'])\n",
    "print(nfl.isnull().sum())"
   ]
  },
  {
   "cell_type": "code",
   "execution_count": 8,
   "metadata": {},
   "outputs": [
    {
     "data": {
      "text/html": [
       "<div>\n",
       "<style scoped>\n",
       "    .dataframe tbody tr th:only-of-type {\n",
       "        vertical-align: middle;\n",
       "    }\n",
       "\n",
       "    .dataframe tbody tr th {\n",
       "        vertical-align: top;\n",
       "    }\n",
       "\n",
       "    .dataframe thead th {\n",
       "        text-align: right;\n",
       "    }\n",
       "</style>\n",
       "<table border=\"1\" class=\"dataframe\">\n",
       "  <thead>\n",
       "    <tr style=\"text-align: right;\">\n",
       "      <th></th>\n",
       "      <th>schedule_season</th>\n",
       "      <th>score_home</th>\n",
       "      <th>score_away</th>\n",
       "      <th>spread_favorite</th>\n",
       "      <th>weather_temperature</th>\n",
       "      <th>weather_wind_mph</th>\n",
       "    </tr>\n",
       "  </thead>\n",
       "  <tbody>\n",
       "    <tr>\n",
       "      <th>count</th>\n",
       "      <td>11972.00</td>\n",
       "      <td>11972.00</td>\n",
       "      <td>11972.00</td>\n",
       "      <td>9723.00</td>\n",
       "      <td>11972.00</td>\n",
       "      <td>11972.00</td>\n",
       "    </tr>\n",
       "    <tr>\n",
       "      <th>mean</th>\n",
       "      <td>1994.56</td>\n",
       "      <td>22.31</td>\n",
       "      <td>19.58</td>\n",
       "      <td>-5.36</td>\n",
       "      <td>58.66</td>\n",
       "      <td>7.83</td>\n",
       "    </tr>\n",
       "    <tr>\n",
       "      <th>std</th>\n",
       "      <td>14.93</td>\n",
       "      <td>10.53</td>\n",
       "      <td>10.14</td>\n",
       "      <td>3.43</td>\n",
       "      <td>15.53</td>\n",
       "      <td>5.64</td>\n",
       "    </tr>\n",
       "    <tr>\n",
       "      <th>min</th>\n",
       "      <td>1966.00</td>\n",
       "      <td>0.00</td>\n",
       "      <td>0.00</td>\n",
       "      <td>-26.50</td>\n",
       "      <td>-6.00</td>\n",
       "      <td>0.00</td>\n",
       "    </tr>\n",
       "    <tr>\n",
       "      <th>25%</th>\n",
       "      <td>1982.00</td>\n",
       "      <td>14.00</td>\n",
       "      <td>13.00</td>\n",
       "      <td>-7.00</td>\n",
       "      <td>48.00</td>\n",
       "      <td>3.75</td>\n",
       "    </tr>\n",
       "    <tr>\n",
       "      <th>50%</th>\n",
       "      <td>1996.00</td>\n",
       "      <td>21.00</td>\n",
       "      <td>20.00</td>\n",
       "      <td>-4.50</td>\n",
       "      <td>61.00</td>\n",
       "      <td>8.00</td>\n",
       "    </tr>\n",
       "    <tr>\n",
       "      <th>75%</th>\n",
       "      <td>2007.00</td>\n",
       "      <td>29.00</td>\n",
       "      <td>27.00</td>\n",
       "      <td>-3.00</td>\n",
       "      <td>72.00</td>\n",
       "      <td>12.00</td>\n",
       "    </tr>\n",
       "    <tr>\n",
       "      <th>max</th>\n",
       "      <td>2020.00</td>\n",
       "      <td>72.00</td>\n",
       "      <td>62.00</td>\n",
       "      <td>0.00</td>\n",
       "      <td>97.00</td>\n",
       "      <td>40.00</td>\n",
       "    </tr>\n",
       "  </tbody>\n",
       "</table>\n",
       "</div>"
      ],
      "text/plain": [
       "       schedule_season  score_home  score_away  spread_favorite  \\\n",
       "count         11972.00    11972.00    11972.00          9723.00   \n",
       "mean           1994.56       22.31       19.58            -5.36   \n",
       "std              14.93       10.53       10.14             3.43   \n",
       "min            1966.00        0.00        0.00           -26.50   \n",
       "25%            1982.00       14.00       13.00            -7.00   \n",
       "50%            1996.00       21.00       20.00            -4.50   \n",
       "75%            2007.00       29.00       27.00            -3.00   \n",
       "max            2020.00       72.00       62.00             0.00   \n",
       "\n",
       "       weather_temperature  weather_wind_mph  \n",
       "count             11972.00          11972.00  \n",
       "mean                 58.66              7.83  \n",
       "std                  15.53              5.64  \n",
       "min                  -6.00              0.00  \n",
       "25%                  48.00              3.75  \n",
       "50%                  61.00              8.00  \n",
       "75%                  72.00             12.00  \n",
       "max                  97.00             40.00  "
      ]
     },
     "execution_count": 8,
     "metadata": {},
     "output_type": "execute_result"
    }
   ],
   "source": [
    "#Check out some basic statistics\n",
    "nfl.describe()"
   ]
  },
  {
   "cell_type": "code",
   "execution_count": 9,
   "metadata": {},
   "outputs": [
    {
     "data": {
      "text/html": [
       "<div>\n",
       "<style scoped>\n",
       "    .dataframe tbody tr th:only-of-type {\n",
       "        vertical-align: middle;\n",
       "    }\n",
       "\n",
       "    .dataframe tbody tr th {\n",
       "        vertical-align: top;\n",
       "    }\n",
       "\n",
       "    .dataframe thead th {\n",
       "        text-align: right;\n",
       "    }\n",
       "</style>\n",
       "<table border=\"1\" class=\"dataframe\">\n",
       "  <thead>\n",
       "    <tr style=\"text-align: right;\">\n",
       "      <th></th>\n",
       "      <th>schedule_date</th>\n",
       "      <th>schedule_season</th>\n",
       "      <th>schedule_week</th>\n",
       "      <th>schedule_playoff</th>\n",
       "      <th>team_home</th>\n",
       "      <th>score_home</th>\n",
       "      <th>score_away</th>\n",
       "      <th>team_away</th>\n",
       "      <th>team_favorite_id</th>\n",
       "      <th>spread_favorite</th>\n",
       "      <th>over_under_line</th>\n",
       "      <th>stadium</th>\n",
       "      <th>stadium_neutral</th>\n",
       "      <th>weather_temperature</th>\n",
       "      <th>weather_wind_mph</th>\n",
       "      <th>weather_humidity</th>\n",
       "      <th>weather_detail</th>\n",
       "    </tr>\n",
       "  </thead>\n",
       "  <tbody>\n",
       "    <tr>\n",
       "      <th>0</th>\n",
       "      <td>9/2/1966</td>\n",
       "      <td>1966</td>\n",
       "      <td>1</td>\n",
       "      <td>False</td>\n",
       "      <td>Miami Dolphins</td>\n",
       "      <td>14.0</td>\n",
       "      <td>23.0</td>\n",
       "      <td>Oakland Raiders</td>\n",
       "      <td>NaN</td>\n",
       "      <td>NaN</td>\n",
       "      <td>NaN</td>\n",
       "      <td>Orange Bowl</td>\n",
       "      <td>False</td>\n",
       "      <td>83.0</td>\n",
       "      <td>6.0</td>\n",
       "      <td>71</td>\n",
       "      <td>NaN</td>\n",
       "    </tr>\n",
       "    <tr>\n",
       "      <th>1</th>\n",
       "      <td>9/3/1966</td>\n",
       "      <td>1966</td>\n",
       "      <td>1</td>\n",
       "      <td>False</td>\n",
       "      <td>Houston Oilers</td>\n",
       "      <td>45.0</td>\n",
       "      <td>7.0</td>\n",
       "      <td>Denver Broncos</td>\n",
       "      <td>NaN</td>\n",
       "      <td>NaN</td>\n",
       "      <td>NaN</td>\n",
       "      <td>Rice Stadium</td>\n",
       "      <td>False</td>\n",
       "      <td>81.0</td>\n",
       "      <td>7.0</td>\n",
       "      <td>70</td>\n",
       "      <td>NaN</td>\n",
       "    </tr>\n",
       "    <tr>\n",
       "      <th>2</th>\n",
       "      <td>9/4/1966</td>\n",
       "      <td>1966</td>\n",
       "      <td>1</td>\n",
       "      <td>False</td>\n",
       "      <td>San Diego Chargers</td>\n",
       "      <td>27.0</td>\n",
       "      <td>7.0</td>\n",
       "      <td>Buffalo Bills</td>\n",
       "      <td>NaN</td>\n",
       "      <td>NaN</td>\n",
       "      <td>NaN</td>\n",
       "      <td>Balboa Stadium</td>\n",
       "      <td>False</td>\n",
       "      <td>70.0</td>\n",
       "      <td>7.0</td>\n",
       "      <td>82</td>\n",
       "      <td>NaN</td>\n",
       "    </tr>\n",
       "    <tr>\n",
       "      <th>3</th>\n",
       "      <td>9/9/1966</td>\n",
       "      <td>1966</td>\n",
       "      <td>2</td>\n",
       "      <td>False</td>\n",
       "      <td>Miami Dolphins</td>\n",
       "      <td>14.0</td>\n",
       "      <td>19.0</td>\n",
       "      <td>New York Jets</td>\n",
       "      <td>NaN</td>\n",
       "      <td>NaN</td>\n",
       "      <td>NaN</td>\n",
       "      <td>Orange Bowl</td>\n",
       "      <td>False</td>\n",
       "      <td>82.0</td>\n",
       "      <td>11.0</td>\n",
       "      <td>78</td>\n",
       "      <td>NaN</td>\n",
       "    </tr>\n",
       "    <tr>\n",
       "      <th>4</th>\n",
       "      <td>9/10/1966</td>\n",
       "      <td>1966</td>\n",
       "      <td>1</td>\n",
       "      <td>False</td>\n",
       "      <td>Green Bay Packers</td>\n",
       "      <td>24.0</td>\n",
       "      <td>3.0</td>\n",
       "      <td>Baltimore Colts</td>\n",
       "      <td>NaN</td>\n",
       "      <td>NaN</td>\n",
       "      <td>NaN</td>\n",
       "      <td>Lambeau Field</td>\n",
       "      <td>False</td>\n",
       "      <td>64.0</td>\n",
       "      <td>8.0</td>\n",
       "      <td>62</td>\n",
       "      <td>NaN</td>\n",
       "    </tr>\n",
       "  </tbody>\n",
       "</table>\n",
       "</div>"
      ],
      "text/plain": [
       "  schedule_date  schedule_season schedule_week  schedule_playoff  \\\n",
       "0      9/2/1966             1966             1             False   \n",
       "1      9/3/1966             1966             1             False   \n",
       "2      9/4/1966             1966             1             False   \n",
       "3      9/9/1966             1966             2             False   \n",
       "4     9/10/1966             1966             1             False   \n",
       "\n",
       "            team_home  score_home  score_away        team_away  \\\n",
       "0      Miami Dolphins        14.0        23.0  Oakland Raiders   \n",
       "1      Houston Oilers        45.0         7.0   Denver Broncos   \n",
       "2  San Diego Chargers        27.0         7.0    Buffalo Bills   \n",
       "3      Miami Dolphins        14.0        19.0    New York Jets   \n",
       "4   Green Bay Packers        24.0         3.0  Baltimore Colts   \n",
       "\n",
       "  team_favorite_id  spread_favorite over_under_line         stadium  \\\n",
       "0              NaN              NaN             NaN     Orange Bowl   \n",
       "1              NaN              NaN             NaN    Rice Stadium   \n",
       "2              NaN              NaN             NaN  Balboa Stadium   \n",
       "3              NaN              NaN             NaN     Orange Bowl   \n",
       "4              NaN              NaN             NaN   Lambeau Field   \n",
       "\n",
       "   stadium_neutral  weather_temperature  weather_wind_mph weather_humidity  \\\n",
       "0            False                 83.0               6.0               71   \n",
       "1            False                 81.0               7.0               70   \n",
       "2            False                 70.0               7.0               82   \n",
       "3            False                 82.0              11.0               78   \n",
       "4            False                 64.0               8.0               62   \n",
       "\n",
       "  weather_detail  \n",
       "0            NaN  \n",
       "1            NaN  \n",
       "2            NaN  \n",
       "3            NaN  \n",
       "4            NaN  "
      ]
     },
     "execution_count": 9,
     "metadata": {},
     "output_type": "execute_result"
    }
   ],
   "source": [
    "nfl.head()"
   ]
  },
  {
   "cell_type": "code",
   "execution_count": 10,
   "metadata": {},
   "outputs": [],
   "source": [
    "#convert schedule_date to date format\n",
    "nfl['schedule_date']=pd.to_datetime(nfl['schedule_date'])\n",
    "\n",
    "# convert over_under line to float\n",
    "nfl[\"over_under_line\"] = pd.to_numeric(nfl[\"over_under_line\"], errors='coerce')\n",
    "\n",
    "#check to see that the above worked\n",
    "#nfl.dtypes\n",
    "#nfl.head()"
   ]
  },
  {
   "cell_type": "code",
   "execution_count": 11,
   "metadata": {},
   "outputs": [
    {
     "data": {
      "text/plain": [
       "Text(0.5, 1.0, 'A comparison of home and away NFL scores from seasons 1966-2019')"
      ]
     },
     "execution_count": 11,
     "metadata": {},
     "output_type": "execute_result"
    },
    {
     "data": {
      "image/png": "[encoded data removed]",
      "text/plain": [
       "<Figure size 720x720 with 1 Axes>"
      ]
     },
     "metadata": {
      "needs_background": "light"
     },
     "output_type": "display_data"
    }
   ],
   "source": [
    "#Make a boxplot for away scores and home scores (after nulls have been dropped)\n",
    "\n",
    "scores = [nfl['score_home'], nfl['score_away']]\n",
    "\n",
    "fig = plt.figure(figsize =(10, 10)) \n",
    "  \n",
    "# Creating axes instance \n",
    "ax = fig.add_axes([0, 0, 1, 1]) \n",
    "  \n",
    "# Creating plot \n",
    "bp = ax.boxplot(scores, patch_artist = True)\n",
    "\n",
    "# fill with colors - not quite sure how this works, just trying things from google searches\n",
    "colors = ['lightgreen', 'lightblue']\n",
    "\n",
    "for patch, color in zip(bp['boxes'], colors):\n",
    "        patch.set_facecolor(color)\n",
    "\n",
    "ax.set_xticklabels(['Home Scores', 'Away Scores']) \n",
    "\n",
    "plt.title(\"A comparison of home and away NFL scores from seasons 1966-2019\") \n",
    "\n"
   ]
  },
  {
   "cell_type": "code",
   "execution_count": 12,
   "metadata": {},
   "outputs": [
    {
     "name": "stdout",
     "output_type": "stream",
     "text": [
      "Home mean score = 22.31; Away mean score = 19.58\n",
      "The difference in means is:  2.73\n",
      "Is this a significant difference?\n",
      "Yes the mean diff is significant\n"
     ]
    },
    {
     "data": {
      "text/plain": [
       "Ttest_indResult(statistic=20.415923692736587, pvalue=7.317583609443472e-92)"
      ]
     },
     "execution_count": 12,
     "metadata": {},
     "output_type": "execute_result"
    }
   ],
   "source": [
    "#compare means and do a t-test\n",
    "\n",
    "home_mean = round(np.mean(nfl[\"score_home\"]),2)\n",
    "away_mean = round(np.mean(nfl[\"score_away\"]),2)\n",
    "diff = round(home_mean - away_mean,2)\n",
    "\n",
    "print(f'Home mean score = {home_mean}; Away mean score = {away_mean}')\n",
    "print(f'The difference in means is:  {diff}')\n",
    "\n",
    "print(\"Is this a significant difference?\")\n",
    "\n",
    "print(\"Yes the mean diff is significant\")\n",
    "stats.ttest_ind(nfl['score_home'], nfl['score_away'])"
   ]
  },
  {
   "cell_type": "code",
   "execution_count": 13,
   "metadata": {},
   "outputs": [],
   "source": [
    "#make a scatter plot for home and away scores as a function of temperature and wind speed.\n",
    "# use function for making scatter plots\n",
    "#Define function for making  scatter plots\n",
    "\n",
    "def make_scatter_plot(df, x_col, y_col):\n",
    "    \"This creates a scatter plot given a list of x values, y values, x label, y label and title\"\n",
    "    x = df[x_col]\n",
    "    y = df[y_col]\n",
    "  \n",
    "    \n",
    "    #generating random number to be included in fig name so that new figure is unlikely to \n",
    "    #be named the same as a previous figure \n",
    "    \n",
    "    #fig_num = random.randint(1, 100)\n",
    "\n",
    "    plt.scatter(x, y)\n",
    "    plt.xlabel(x_col)\n",
    "    plt.ylabel(y_col)\n",
    "    plt.title(f\"{y_col} as a function of {x_col}\")\n",
    "    plt.ylim(min(y)-10,max(y)+10)\n",
    "    plt.savefig(f\"{x_col}_{y_col}.png\")\n",
    "   \n",
    "    linregress(x,y)\n",
    "    reg = linregress(x,y)\n",
    "    reg_line = reg[0]*x + reg[1]\n",
    "\n",
    "    plt.plot(x,reg_line, color=\"red\")\n",
    "    r_squared = round(reg[2]**2,2)\n",
    "    print(f\"r squared = {r_squared}\")\n",
    "    \n",
    "    return plt\n",
    "\n"
   ]
  },
  {
   "cell_type": "code",
   "execution_count": 14,
   "metadata": {},
   "outputs": [
    {
     "name": "stdout",
     "output_type": "stream",
     "text": [
      "r squared = 0.0\n"
     ]
    },
    {
     "data": {
      "text/plain": [
       "<module 'matplotlib.pyplot' from 'C:\\\\Users\\\\ksaville\\\\Anaconda3\\\\envs\\\\PythonData\\\\lib\\\\site-packages\\\\matplotlib\\\\pyplot.py'>"
      ]
     },
     "execution_count": 14,
     "metadata": {},
     "output_type": "execute_result"
    },
    {
     "data": {
      "image/png": "[encoded data removed]",
      "text/plain": [
       "<Figure size 432x288 with 1 Axes>"
      ]
     },
     "metadata": {
      "needs_background": "light"
     },
     "output_type": "display_data"
    }
   ],
   "source": [
    "make_scatter_plot(nfl,'weather_temperature','score_home' )"
   ]
  },
  {
   "cell_type": "code",
   "execution_count": 15,
   "metadata": {},
   "outputs": [
    {
     "name": "stdout",
     "output_type": "stream",
     "text": [
      "r squared = 0.0\n"
     ]
    },
    {
     "data": {
      "image/png": "[encoded data removed]",
      "text/plain": [
       "<Figure size 432x288 with 1 Axes>"
      ]
     },
     "metadata": {
      "needs_background": "light"
     },
     "output_type": "display_data"
    }
   ],
   "source": [
    "make_scatter_plot(nfl,'weather_temperature','score_away' )\n",
    "plt.xlabel('xlabel')\n",
    "plt.title('Title')\n",
    "plt.show()"
   ]
  },
  {
   "cell_type": "code",
   "execution_count": 16,
   "metadata": {},
   "outputs": [
    {
     "name": "stdout",
     "output_type": "stream",
     "text": [
      "r squared = 0.0\n"
     ]
    },
    {
     "data": {
      "text/plain": [
       "<module 'matplotlib.pyplot' from 'C:\\\\Users\\\\ksaville\\\\Anaconda3\\\\envs\\\\PythonData\\\\lib\\\\site-packages\\\\matplotlib\\\\pyplot.py'>"
      ]
     },
     "execution_count": 16,
     "metadata": {},
     "output_type": "execute_result"
    },
    {
     "data": {
      "image/png": "[encoded data removed]",
      "text/plain": [
       "<Figure size 432x288 with 1 Axes>"
      ]
     },
     "metadata": {
      "needs_background": "light"
     },
     "output_type": "display_data"
    }
   ],
   "source": [
    "make_scatter_plot(nfl,'weather_wind_mph','score_home' )"
   ]
  },
  {
   "cell_type": "code",
   "execution_count": 17,
   "metadata": {},
   "outputs": [
    {
     "name": "stdout",
     "output_type": "stream",
     "text": [
      "r squared = 0.01\n"
     ]
    },
    {
     "data": {
      "text/plain": [
       "<module 'matplotlib.pyplot' from 'C:\\\\Users\\\\ksaville\\\\Anaconda3\\\\envs\\\\PythonData\\\\lib\\\\site-packages\\\\matplotlib\\\\pyplot.py'>"
      ]
     },
     "execution_count": 17,
     "metadata": {},
     "output_type": "execute_result"
    },
    {
     "data": {
      "image/png": "[encoded data removed]",
      "text/plain": [
       "<Figure size 432x288 with 1 Axes>"
      ]
     },
     "metadata": {
      "needs_background": "light"
     },
     "output_type": "display_data"
    }
   ],
   "source": [
    "make_scatter_plot(nfl,'weather_wind_mph','score_away' )"
   ]
  },
  {
   "cell_type": "code",
   "execution_count": 18,
   "metadata": {},
   "outputs": [],
   "source": [
    "#change data frame to only games after 1979\n",
    "\n",
    "nfl_1979 = nfl[nfl['schedule_season']>= 1979]\n",
    "\n",
    "# remove humidity column\n",
    "del nfl_1979['weather_humidity']"
   ]
  },
  {
   "cell_type": "code",
   "execution_count": 19,
   "metadata": {},
   "outputs": [
    {
     "data": {
      "text/plain": [
       "schedule_date             0\n",
       "schedule_season           0\n",
       "schedule_week             0\n",
       "schedule_playoff          0\n",
       "team_home                 0\n",
       "score_home                0\n",
       "score_away                0\n",
       "team_away                 0\n",
       "team_favorite_id          0\n",
       "spread_favorite           0\n",
       "over_under_line           4\n",
       "stadium                   0\n",
       "stadium_neutral           0\n",
       "weather_temperature       0\n",
       "weather_wind_mph          0\n",
       "weather_detail         7185\n",
       "dtype: int64"
      ]
     },
     "execution_count": 19,
     "metadata": {},
     "output_type": "execute_result"
    }
   ],
   "source": [
    "#check dataframe for nulls\n",
    "nfl_1979.isnull().sum()"
   ]
  },
  {
   "cell_type": "code",
   "execution_count": 20,
   "metadata": {},
   "outputs": [
    {
     "data": {
      "text/plain": [
       "schedule_date          datetime64[ns]\n",
       "schedule_season                 int64\n",
       "schedule_week                  object\n",
       "schedule_playoff                 bool\n",
       "team_home                      object\n",
       "score_home                    float64\n",
       "score_away                    float64\n",
       "team_away                      object\n",
       "team_favorite_id               object\n",
       "spread_favorite               float64\n",
       "over_under_line               float64\n",
       "stadium                        object\n",
       "stadium_neutral                  bool\n",
       "weather_temperature           float64\n",
       "weather_wind_mph              float64\n",
       "weather_detail                 object\n",
       "dtype: object"
      ]
     },
     "execution_count": 20,
     "metadata": {},
     "output_type": "execute_result"
    }
   ],
   "source": [
    "nfl_1979.dtypes"
   ]
  },
  {
   "cell_type": "code",
   "execution_count": 21,
   "metadata": {},
   "outputs": [
    {
     "name": "stderr",
     "output_type": "stream",
     "text": [
      "C:\\Users\\ksaville\\Anaconda3\\envs\\PythonData\\lib\\site-packages\\ipykernel_launcher.py:1: SettingWithCopyWarning: \n",
      "A value is trying to be set on a copy of a slice from a DataFrame.\n",
      "Try using .loc[row_indexer,col_indexer] = value instead\n",
      "\n",
      "See the caveats in the documentation: https://pandas.pydata.org/pandas-docs/stable/user_guide/indexing.html#returning-a-view-versus-a-copy\n",
      "  \"\"\"Entry point for launching an IPython kernel.\n"
     ]
    }
   ],
   "source": [
    "nfl_1979['Total'] = nfl_1979['score_home'] + nfl_1979['score_away']"
   ]
  },
  {
   "cell_type": "code",
   "execution_count": 22,
   "metadata": {},
   "outputs": [
    {
     "data": {
      "text/html": [
       "<div>\n",
       "<style scoped>\n",
       "    .dataframe tbody tr th:only-of-type {\n",
       "        vertical-align: middle;\n",
       "    }\n",
       "\n",
       "    .dataframe tbody tr th {\n",
       "        vertical-align: top;\n",
       "    }\n",
       "\n",
       "    .dataframe thead th {\n",
       "        text-align: right;\n",
       "    }\n",
       "</style>\n",
       "<table border=\"1\" class=\"dataframe\">\n",
       "  <thead>\n",
       "    <tr style=\"text-align: right;\">\n",
       "      <th></th>\n",
       "      <th>schedule_date</th>\n",
       "      <th>schedule_season</th>\n",
       "      <th>schedule_week</th>\n",
       "      <th>schedule_playoff</th>\n",
       "      <th>team_home</th>\n",
       "      <th>score_home</th>\n",
       "      <th>score_away</th>\n",
       "      <th>team_away</th>\n",
       "      <th>team_favorite_id</th>\n",
       "      <th>spread_favorite</th>\n",
       "      <th>over_under_line</th>\n",
       "      <th>stadium</th>\n",
       "      <th>stadium_neutral</th>\n",
       "      <th>weather_temperature</th>\n",
       "      <th>weather_wind_mph</th>\n",
       "      <th>weather_detail</th>\n",
       "      <th>Total</th>\n",
       "    </tr>\n",
       "  </thead>\n",
       "  <tbody>\n",
       "    <tr>\n",
       "      <th>2501</th>\n",
       "      <td>1979-09-01</td>\n",
       "      <td>1979</td>\n",
       "      <td>1</td>\n",
       "      <td>False</td>\n",
       "      <td>Tampa Bay Buccaneers</td>\n",
       "      <td>31.0</td>\n",
       "      <td>16.0</td>\n",
       "      <td>Detroit Lions</td>\n",
       "      <td>TB</td>\n",
       "      <td>-3.0</td>\n",
       "      <td>30.0</td>\n",
       "      <td>Houlihan's Stadium</td>\n",
       "      <td>False</td>\n",
       "      <td>79.0</td>\n",
       "      <td>9.0</td>\n",
       "      <td>NaN</td>\n",
       "      <td>47.0</td>\n",
       "    </tr>\n",
       "    <tr>\n",
       "      <th>2502</th>\n",
       "      <td>1979-09-02</td>\n",
       "      <td>1979</td>\n",
       "      <td>1</td>\n",
       "      <td>False</td>\n",
       "      <td>Buffalo Bills</td>\n",
       "      <td>7.0</td>\n",
       "      <td>9.0</td>\n",
       "      <td>Miami Dolphins</td>\n",
       "      <td>MIA</td>\n",
       "      <td>-5.0</td>\n",
       "      <td>39.0</td>\n",
       "      <td>Ralph Wilson Stadium</td>\n",
       "      <td>False</td>\n",
       "      <td>74.0</td>\n",
       "      <td>15.0</td>\n",
       "      <td>NaN</td>\n",
       "      <td>16.0</td>\n",
       "    </tr>\n",
       "    <tr>\n",
       "      <th>2503</th>\n",
       "      <td>1979-09-02</td>\n",
       "      <td>1979</td>\n",
       "      <td>1</td>\n",
       "      <td>False</td>\n",
       "      <td>Chicago Bears</td>\n",
       "      <td>6.0</td>\n",
       "      <td>3.0</td>\n",
       "      <td>Green Bay Packers</td>\n",
       "      <td>CHI</td>\n",
       "      <td>-3.0</td>\n",
       "      <td>31.0</td>\n",
       "      <td>Soldier Field</td>\n",
       "      <td>False</td>\n",
       "      <td>78.0</td>\n",
       "      <td>11.0</td>\n",
       "      <td>NaN</td>\n",
       "      <td>9.0</td>\n",
       "    </tr>\n",
       "    <tr>\n",
       "      <th>2504</th>\n",
       "      <td>1979-09-02</td>\n",
       "      <td>1979</td>\n",
       "      <td>1</td>\n",
       "      <td>False</td>\n",
       "      <td>Denver Broncos</td>\n",
       "      <td>10.0</td>\n",
       "      <td>0.0</td>\n",
       "      <td>Cincinnati Bengals</td>\n",
       "      <td>DEN</td>\n",
       "      <td>-3.0</td>\n",
       "      <td>31.5</td>\n",
       "      <td>Mile High Stadium</td>\n",
       "      <td>False</td>\n",
       "      <td>69.0</td>\n",
       "      <td>6.0</td>\n",
       "      <td>NaN</td>\n",
       "      <td>10.0</td>\n",
       "    </tr>\n",
       "    <tr>\n",
       "      <th>2505</th>\n",
       "      <td>1979-09-02</td>\n",
       "      <td>1979</td>\n",
       "      <td>1</td>\n",
       "      <td>False</td>\n",
       "      <td>Kansas City Chiefs</td>\n",
       "      <td>14.0</td>\n",
       "      <td>0.0</td>\n",
       "      <td>Baltimore Colts</td>\n",
       "      <td>KC</td>\n",
       "      <td>-1.0</td>\n",
       "      <td>37.0</td>\n",
       "      <td>Arrowhead Stadium</td>\n",
       "      <td>False</td>\n",
       "      <td>76.0</td>\n",
       "      <td>8.0</td>\n",
       "      <td>NaN</td>\n",
       "      <td>14.0</td>\n",
       "    </tr>\n",
       "  </tbody>\n",
       "</table>\n",
       "</div>"
      ],
      "text/plain": [
       "     schedule_date  schedule_season schedule_week  schedule_playoff  \\\n",
       "2501    1979-09-01             1979             1             False   \n",
       "2502    1979-09-02             1979             1             False   \n",
       "2503    1979-09-02             1979             1             False   \n",
       "2504    1979-09-02             1979             1             False   \n",
       "2505    1979-09-02             1979             1             False   \n",
       "\n",
       "                 team_home  score_home  score_away           team_away  \\\n",
       "2501  Tampa Bay Buccaneers        31.0        16.0       Detroit Lions   \n",
       "2502         Buffalo Bills         7.0         9.0      Miami Dolphins   \n",
       "2503         Chicago Bears         6.0         3.0   Green Bay Packers   \n",
       "2504        Denver Broncos        10.0         0.0  Cincinnati Bengals   \n",
       "2505    Kansas City Chiefs        14.0         0.0     Baltimore Colts   \n",
       "\n",
       "     team_favorite_id  spread_favorite  over_under_line               stadium  \\\n",
       "2501               TB             -3.0             30.0    Houlihan's Stadium   \n",
       "2502              MIA             -5.0             39.0  Ralph Wilson Stadium   \n",
       "2503              CHI             -3.0             31.0         Soldier Field   \n",
       "2504              DEN             -3.0             31.5     Mile High Stadium   \n",
       "2505               KC             -1.0             37.0     Arrowhead Stadium   \n",
       "\n",
       "      stadium_neutral  weather_temperature  weather_wind_mph weather_detail  \\\n",
       "2501            False                 79.0               9.0            NaN   \n",
       "2502            False                 74.0              15.0            NaN   \n",
       "2503            False                 78.0              11.0            NaN   \n",
       "2504            False                 69.0               6.0            NaN   \n",
       "2505            False                 76.0               8.0            NaN   \n",
       "\n",
       "      Total  \n",
       "2501   47.0  \n",
       "2502   16.0  \n",
       "2503    9.0  \n",
       "2504   10.0  \n",
       "2505   14.0  "
      ]
     },
     "execution_count": 22,
     "metadata": {},
     "output_type": "execute_result"
    }
   ],
   "source": [
    "nfl_1979.head()"
   ]
  },
  {
   "cell_type": "code",
   "execution_count": 23,
   "metadata": {},
   "outputs": [
    {
     "data": {
      "text/plain": [
       "schedule_date          datetime64[ns]\n",
       "schedule_season                 int64\n",
       "schedule_week                  object\n",
       "schedule_playoff                 bool\n",
       "team_home                      object\n",
       "score_home                    float64\n",
       "score_away                    float64\n",
       "team_away                      object\n",
       "team_favorite_id               object\n",
       "spread_favorite               float64\n",
       "over_under_line               float64\n",
       "stadium                        object\n",
       "stadium_neutral                  bool\n",
       "weather_temperature           float64\n",
       "weather_wind_mph              float64\n",
       "weather_detail                 object\n",
       "Total                         float64\n",
       "dtype: object"
      ]
     },
     "execution_count": 23,
     "metadata": {},
     "output_type": "execute_result"
    }
   ],
   "source": [
    "nfl_1979.dtypes"
   ]
  },
  {
   "cell_type": "code",
   "execution_count": 24,
   "metadata": {},
   "outputs": [
    {
     "name": "stderr",
     "output_type": "stream",
     "text": [
      "C:\\Users\\ksaville\\Anaconda3\\envs\\PythonData\\lib\\site-packages\\pandas\\core\\indexing.py:845: SettingWithCopyWarning: \n",
      "A value is trying to be set on a copy of a slice from a DataFrame.\n",
      "Try using .loc[row_indexer,col_indexer] = value instead\n",
      "\n",
      "See the caveats in the documentation: https://pandas.pydata.org/pandas-docs/stable/user_guide/indexing.html#returning-a-view-versus-a-copy\n",
      "  self.obj[key] = _infer_fill_value(value)\n",
      "C:\\Users\\ksaville\\Anaconda3\\envs\\PythonData\\lib\\site-packages\\pandas\\core\\indexing.py:966: SettingWithCopyWarning: \n",
      "A value is trying to be set on a copy of a slice from a DataFrame.\n",
      "Try using .loc[row_indexer,col_indexer] = value instead\n",
      "\n",
      "See the caveats in the documentation: https://pandas.pydata.org/pandas-docs/stable/user_guide/indexing.html#returning-a-view-versus-a-copy\n",
      "  self.obj[item] = s\n"
     ]
    },
    {
     "data": {
      "text/html": [
       "<div>\n",
       "<style scoped>\n",
       "    .dataframe tbody tr th:only-of-type {\n",
       "        vertical-align: middle;\n",
       "    }\n",
       "\n",
       "    .dataframe tbody tr th {\n",
       "        vertical-align: top;\n",
       "    }\n",
       "\n",
       "    .dataframe thead th {\n",
       "        text-align: right;\n",
       "    }\n",
       "</style>\n",
       "<table border=\"1\" class=\"dataframe\">\n",
       "  <thead>\n",
       "    <tr style=\"text-align: right;\">\n",
       "      <th></th>\n",
       "      <th>schedule_date</th>\n",
       "      <th>schedule_season</th>\n",
       "      <th>schedule_week</th>\n",
       "      <th>schedule_playoff</th>\n",
       "      <th>team_home</th>\n",
       "      <th>score_home</th>\n",
       "      <th>score_away</th>\n",
       "      <th>team_away</th>\n",
       "      <th>team_favorite_id</th>\n",
       "      <th>spread_favorite</th>\n",
       "      <th>over_under_line</th>\n",
       "      <th>stadium</th>\n",
       "      <th>stadium_neutral</th>\n",
       "      <th>weather_temperature</th>\n",
       "      <th>weather_wind_mph</th>\n",
       "      <th>weather_detail</th>\n",
       "      <th>Total</th>\n",
       "      <th>OverUnder</th>\n",
       "    </tr>\n",
       "  </thead>\n",
       "  <tbody>\n",
       "    <tr>\n",
       "      <th>2501</th>\n",
       "      <td>1979-09-01</td>\n",
       "      <td>1979</td>\n",
       "      <td>1</td>\n",
       "      <td>False</td>\n",
       "      <td>Tampa Bay Buccaneers</td>\n",
       "      <td>31.0</td>\n",
       "      <td>16.0</td>\n",
       "      <td>Detroit Lions</td>\n",
       "      <td>TB</td>\n",
       "      <td>-3.0</td>\n",
       "      <td>30.0</td>\n",
       "      <td>Houlihan's Stadium</td>\n",
       "      <td>False</td>\n",
       "      <td>79.0</td>\n",
       "      <td>9.0</td>\n",
       "      <td>NaN</td>\n",
       "      <td>47.0</td>\n",
       "      <td>over</td>\n",
       "    </tr>\n",
       "    <tr>\n",
       "      <th>2502</th>\n",
       "      <td>1979-09-02</td>\n",
       "      <td>1979</td>\n",
       "      <td>1</td>\n",
       "      <td>False</td>\n",
       "      <td>Buffalo Bills</td>\n",
       "      <td>7.0</td>\n",
       "      <td>9.0</td>\n",
       "      <td>Miami Dolphins</td>\n",
       "      <td>MIA</td>\n",
       "      <td>-5.0</td>\n",
       "      <td>39.0</td>\n",
       "      <td>Ralph Wilson Stadium</td>\n",
       "      <td>False</td>\n",
       "      <td>74.0</td>\n",
       "      <td>15.0</td>\n",
       "      <td>NaN</td>\n",
       "      <td>16.0</td>\n",
       "      <td>under</td>\n",
       "    </tr>\n",
       "    <tr>\n",
       "      <th>2503</th>\n",
       "      <td>1979-09-02</td>\n",
       "      <td>1979</td>\n",
       "      <td>1</td>\n",
       "      <td>False</td>\n",
       "      <td>Chicago Bears</td>\n",
       "      <td>6.0</td>\n",
       "      <td>3.0</td>\n",
       "      <td>Green Bay Packers</td>\n",
       "      <td>CHI</td>\n",
       "      <td>-3.0</td>\n",
       "      <td>31.0</td>\n",
       "      <td>Soldier Field</td>\n",
       "      <td>False</td>\n",
       "      <td>78.0</td>\n",
       "      <td>11.0</td>\n",
       "      <td>NaN</td>\n",
       "      <td>9.0</td>\n",
       "      <td>under</td>\n",
       "    </tr>\n",
       "    <tr>\n",
       "      <th>2504</th>\n",
       "      <td>1979-09-02</td>\n",
       "      <td>1979</td>\n",
       "      <td>1</td>\n",
       "      <td>False</td>\n",
       "      <td>Denver Broncos</td>\n",
       "      <td>10.0</td>\n",
       "      <td>0.0</td>\n",
       "      <td>Cincinnati Bengals</td>\n",
       "      <td>DEN</td>\n",
       "      <td>-3.0</td>\n",
       "      <td>31.5</td>\n",
       "      <td>Mile High Stadium</td>\n",
       "      <td>False</td>\n",
       "      <td>69.0</td>\n",
       "      <td>6.0</td>\n",
       "      <td>NaN</td>\n",
       "      <td>10.0</td>\n",
       "      <td>under</td>\n",
       "    </tr>\n",
       "    <tr>\n",
       "      <th>2505</th>\n",
       "      <td>1979-09-02</td>\n",
       "      <td>1979</td>\n",
       "      <td>1</td>\n",
       "      <td>False</td>\n",
       "      <td>Kansas City Chiefs</td>\n",
       "      <td>14.0</td>\n",
       "      <td>0.0</td>\n",
       "      <td>Baltimore Colts</td>\n",
       "      <td>KC</td>\n",
       "      <td>-1.0</td>\n",
       "      <td>37.0</td>\n",
       "      <td>Arrowhead Stadium</td>\n",
       "      <td>False</td>\n",
       "      <td>76.0</td>\n",
       "      <td>8.0</td>\n",
       "      <td>NaN</td>\n",
       "      <td>14.0</td>\n",
       "      <td>under</td>\n",
       "    </tr>\n",
       "  </tbody>\n",
       "</table>\n",
       "</div>"
      ],
      "text/plain": [
       "     schedule_date  schedule_season schedule_week  schedule_playoff  \\\n",
       "2501    1979-09-01             1979             1             False   \n",
       "2502    1979-09-02             1979             1             False   \n",
       "2503    1979-09-02             1979             1             False   \n",
       "2504    1979-09-02             1979             1             False   \n",
       "2505    1979-09-02             1979             1             False   \n",
       "\n",
       "                 team_home  score_home  score_away           team_away  \\\n",
       "2501  Tampa Bay Buccaneers        31.0        16.0       Detroit Lions   \n",
       "2502         Buffalo Bills         7.0         9.0      Miami Dolphins   \n",
       "2503         Chicago Bears         6.0         3.0   Green Bay Packers   \n",
       "2504        Denver Broncos        10.0         0.0  Cincinnati Bengals   \n",
       "2505    Kansas City Chiefs        14.0         0.0     Baltimore Colts   \n",
       "\n",
       "     team_favorite_id  spread_favorite  over_under_line               stadium  \\\n",
       "2501               TB             -3.0             30.0    Houlihan's Stadium   \n",
       "2502              MIA             -5.0             39.0  Ralph Wilson Stadium   \n",
       "2503              CHI             -3.0             31.0         Soldier Field   \n",
       "2504              DEN             -3.0             31.5     Mile High Stadium   \n",
       "2505               KC             -1.0             37.0     Arrowhead Stadium   \n",
       "\n",
       "      stadium_neutral  weather_temperature  weather_wind_mph weather_detail  \\\n",
       "2501            False                 79.0               9.0            NaN   \n",
       "2502            False                 74.0              15.0            NaN   \n",
       "2503            False                 78.0              11.0            NaN   \n",
       "2504            False                 69.0               6.0            NaN   \n",
       "2505            False                 76.0               8.0            NaN   \n",
       "\n",
       "      Total OverUnder  \n",
       "2501   47.0      over  \n",
       "2502   16.0     under  \n",
       "2503    9.0     under  \n",
       "2504   10.0     under  \n",
       "2505   14.0     under  "
      ]
     },
     "execution_count": 24,
     "metadata": {},
     "output_type": "execute_result"
    }
   ],
   "source": [
    "#calnumber of games that were over or under the over_under line. \n",
    "for index, row in nfl_1979.iterrows():\n",
    "    total = row[16]\n",
    "    line = row[10]\n",
    "    if total > line:\n",
    "        nfl_1979.loc[index,'OverUnder'] = 'over'\n",
    "    elif total < line:\n",
    "        nfl_1979.loc[index,'OverUnder'] = 'under'\n",
    "    else:\n",
    "        nfl_1979.loc[index,'OverUnder'] = 'push'\n",
    "\n",
    "nfl_1979.head()"
   ]
  },
  {
   "cell_type": "code",
   "execution_count": 25,
   "metadata": {},
   "outputs": [],
   "source": [
    "gby_OU = nfl_1979.groupby('OverUnder')"
   ]
  },
  {
   "cell_type": "code",
   "execution_count": 26,
   "metadata": {},
   "outputs": [],
   "source": [
    "over_under_count = gby_OU['team_home'].count()"
   ]
  },
  {
   "cell_type": "code",
   "execution_count": 40,
   "metadata": {},
   "outputs": [
    {
     "data": {
      "image/png": "[encoded data removed]",
      "text/plain": [
       "<Figure size 432x288 with 1 Axes>"
      ]
     },
     "metadata": {},
     "output_type": "display_data"
    }
   ],
   "source": [
    "# Pie chart, where the slices will be ordered and plotted counter-clockwise:\n",
    "labels = ['Over', 'Push', 'Under']\n",
    "sizes = over_under_count\n",
    "colors = ['#008fd5', '#e5ae37', '#fc4f30']\n",
    "\n",
    "fig1, ax1 = plt.subplots()\n",
    "ax1.pie(sizes, labels=labels, autopct='%1.1f%%',\n",
    "        shadow=True, startangle=360, wedgeprops={'edgecolor':'black'}, colors=colors,\n",
    "        pctdistance = 0.8, labeldistance = 1.2)\n",
    "ax1.axis('equal')  # Equal aspect ratio ensures that pie is drawn as a circle.\n",
    "ax1.set_title('Scores of NFL games relative to Over/Under line', pad =30)\n",
    "plt.tight_layout()\n",
    "#plt.style.use(\"seaborn-colorblind\") - this didn't seem to make a difference\n",
    "\n",
    "plt.savefig(\"over_under_pie.png\")\n",
    "plt.show()\n",
    "\n"
   ]
  },
  {
   "cell_type": "code",
   "execution_count": null,
   "metadata": {},
   "outputs": [],
   "source": [
    "# Change names to team ids\n",
    "nfl_1979.columns"
   ]
  },
  {
   "cell_type": "code",
   "execution_count": null,
   "metadata": {},
   "outputs": [],
   "source": [
    "#nfl_1979['team_home'].value_counts()"
   ]
  },
  {
   "cell_type": "code",
   "execution_count": null,
   "metadata": {},
   "outputs": [],
   "source": [
    "#rename all team names to team_ids.  combining names for teams that have changed cities.\n",
    "\n",
    "nfl_1979 = nfl_1979.replace({'Arizona Cardinals':'ARI',\n",
    "'Phoenix Cardinals':'ARI',\n",
    "'St. Louis Cardinals':'ARI',\n",
    "'Atlanta Falcons':'ATL',\n",
    "'Baltimore Ravens':'BAL',\n",
    "'Buffalo Bills':'BUF',\n",
    "'Carolina Panthers':'CAR',\n",
    "'Chicago Bears':'CHI',\n",
    "'Cincinnati Bengals': 'CIN',\n",
    "'Cleveland Browns':'CLE',\n",
    "'Dallas Cowboys':'DAL',\n",
    "'Denver Broncos':'DEN',\n",
    "'Detroit Lions':'DET',\n",
    "'Green Bay Packers':'GB',\n",
    "'Houston Texans':'HOU',\n",
    "'Baltimore Colts':'IND',\n",
    "'Indianapolis Colts':'IND',\n",
    "'Jacksonville Jaguars':'JAX',\n",
    "'Kansas City Chiefs':'KC',\n",
    "'Los Angeles Chargers':'LAC',\n",
    "'San Diego Chargers':'LAC',\n",
    "'Los Angeles Rams':'LAR',\n",
    "'St. Louis Rams':'LAR',\n",
    "'Miami Dolphins':'MIA',\n",
    "'Minnesota Vikings':'MIN',\n",
    "'New England Patriots':'NE',\n",
    "'Boston Patriots':'NE',\n",
    "'New Orleans Saints':'NO',\n",
    "'New York Giants':'NYG',\n",
    "'New York Jets':'NYJ',\n",
    "'Los Angeles Raiders':'OAK',\n",
    "'Oakland Raiders':'OAK',\n",
    "'Philadelphia Eagles':'PHI',\n",
    "'Pittsburgh Steelers':'PIT',\n",
    "'Seattle Seahawks':'SEA',\n",
    "'San Francisco 49ers':'SF',\n",
    "'Tampa Bay Buccaneers':'TB',\n",
    "'Houston Oilers':'TEN',\n",
    "'Tennessee Oilers':'TEN',\n",
    "'Tennessee Titans':'TEN',\n",
    "'Washington Football Team':'WAS',\n",
    "'Washington Redskins':'WAS'})\n",
    "\n",
    "nfl_1979 = nfl_1979.reset_index()\n",
    "del nfl_1979['index']\n",
    "\n",
    "nfl_1979.head()"
   ]
  },
  {
   "cell_type": "code",
   "execution_count": null,
   "metadata": {},
   "outputs": [],
   "source": [
    "nfl_1979['team_favorite_id']"
   ]
  },
  {
   "cell_type": "code",
   "execution_count": 32,
   "metadata": {},
   "outputs": [],
   "source": [
    "# calc performance against spread:\n",
    "#fav team points - other team points\n",
    "\n",
    "#example using first game \n",
    "#(det vs TB, TB favored by 3, score: score_home 31.0, score_away 16.0  )\n",
    "\n",
    "\n",
    "# record cover as win, lose , push\n",
    "for index, row in nfl_1979.iterrows():\n",
    "    home_team = row[4]\n",
    "    away_team = row[7]\n",
    "    fav_team = row[8]\n",
    "    home_score = row[5]\n",
    "    away_score = row[6]\n",
    "    spread = row[9]\n",
    "    if home_team == fav_team:\n",
    "        fav_score = home_score + spread\n",
    "        diff = fav_score - away_score\n",
    "    elif away_team == fav_team:\n",
    "        fav_score = away_score + spread\n",
    "        diff = fav_score - home_score\n",
    "    \n",
    "    nfl_1979.loc[index,'Spread Diff'] = diff\n",
    "    if diff > 0:\n",
    "        nfl_1979.loc[index,'Cover'] = 'yes'\n",
    "    elif diff < 0:\n",
    "        nfl_1979.loc[index,'Cover'] = 'no'\n",
    "    else:\n",
    "        nfl_1979.loc[index,'Cover'] = 'push'\n",
    "    "
   ]
  },
  {
   "cell_type": "code",
   "execution_count": 33,
   "metadata": {},
   "outputs": [],
   "source": [
    "#deleted stadium_neutral and weather_detail columns\n",
    "nfl_1979.columns\n",
    "del(nfl_1979['stadium_neutral'])\n",
    "del(nfl_1979['weather_detail'])"
   ]
  },
  {
   "cell_type": "code",
   "execution_count": 34,
   "metadata": {},
   "outputs": [
    {
     "data": {
      "text/plain": [
       "schedule_season  team_home  Cover\n",
       "1979             ARI        no       6\n",
       "                            yes      2\n",
       "                 ATL        yes      6\n",
       "                            no       1\n",
       "                            push     1\n",
       "                                    ..\n",
       "2020             IND        yes      2\n",
       "                            no       1\n",
       "                 MIN        no       3\n",
       "                 NO         no       3\n",
       "                            yes      1\n",
       "Name: Cover, Length: 2673, dtype: int64"
      ]
     },
     "execution_count": 34,
     "metadata": {},
     "output_type": "execute_result"
    }
   ],
   "source": [
    "#trying to filter out covered from not covered etc.\n",
    "\n",
    "nfl_1979.head()\n",
    "\n",
    "nfl_year_cover = nfl_1979[['schedule_season','team_home','team_away', 'Cover']]\n",
    "nfl_year_cover_home = nfl_1979[['schedule_season','team_home', 'Cover']]\n",
    "nfl_year_cover_away = nfl_1979[['schedule_season','team_away', 'Cover']]\n",
    "\n",
    "nfl_year_cover.groupby(['schedule_season','team_home'])['Cover'].value_counts()\n",
    "\n",
    "\n",
    "#nfl_home_covered = nfl_year_cover_home[nfl_year_cover_home['Cover']=='yes']\n",
    "#nfl_home_not_covered = nfl_year_cover_home[nfl_year_cover_home['Cover']=='no']\n",
    "#nfl_home_push = nfl_year_cover_home[nfl_year_cover_home['Cover']=='push']\n",
    "\n",
    "#nfl_away_covered = nfl_year_cover_away[nfl_year_cover_away['Cover']=='yes']\n",
    "#nfl_away_not_covered = nfl_year_cover_away[nfl_year_cover_away['Cover']=='no']\n",
    "#nfl_away_push = nfl_year_cover_away[nfl_year_cover_away['Cover']=='push']\n",
    "\n",
    "#nfl_home_covered['team_home'].value_counts()"
   ]
  },
  {
   "cell_type": "code",
   "execution_count": null,
   "metadata": {},
   "outputs": [],
   "source": [
    "   \n",
    "    home_records = {}\n",
    "    away_records = {}\n",
    "    \n",
    "    for index, row in nfl_1979.iterrows():\n",
    "        home_team = row[4]\n",
    "        away_team = row[7]\n",
    "        fav_team = row[8]\n",
    "        cover = row[17]\n",
    "    \n",
    "        if home_team == fav_team:\n",
    "            if home_team not in home_records:\n",
    "                home_records[home_team] = [0,0,0] \n",
    "         \n",
    "            if cover == 'yes':\n",
    "                home_records[home_team][0] += 1 \n",
    "            \n",
    "            if cover == 'no':\n",
    "                home_records[home_team][1] += 1 \n",
    "            \n",
    "            if cover == 'push':\n",
    "                home_records[home_team][2] += 1 \n",
    "                \n",
    "        if away_team == fav_team:\n",
    "            if away_team not in away_records:\n",
    "                away_records[away_team] = [0,0,0] \n",
    "         \n",
    "            if cover == 'yes':\n",
    "                away_records[away_team][0] += 1 \n",
    "            \n",
    "            if cover == 'no':\n",
    "                away_records[away_team][1] += 1 \n",
    "            \n",
    "            if cover == 'push':\n",
    "                away_records[away_team][2] += 1 \n",
    "            \n",
    "            \n",
    "home_records_df = pd.DataFrame(home_records).T\n",
    "    \n",
    "away_records_df = pd.DataFrame(away_records).T\n",
    "    \n",
    "home_records_df.columns = ['Home covered', 'Home not covered', 'Home pushed']\n",
    "    \n",
    "away_records_df.columns = ['Away covered', 'Away not covered', 'Away pushed']\n",
    "\n",
    "home_records_df.sort_index(inplace = True)\n",
    "\n",
    "cover_records_joined = home_records_df.join(away_records_df, on=None, how='left', lsuffix='', rsuffix='', sort=False)\n"
   ]
  },
  {
   "cell_type": "code",
   "execution_count": 46,
   "metadata": {},
   "outputs": [
    {
     "data": {
      "image/png": "[encoded data removed]",
      "text/plain": [
       "<Figure size 1440x576 with 1 Axes>"
      ]
     },
     "metadata": {
      "needs_background": "light"
     },
     "output_type": "display_data"
    },
    {
     "data": {
      "image/png": "[encoded data removed]",
      "text/plain": [
       "<Figure size 1440x576 with 1 Axes>"
      ]
     },
     "metadata": {
      "needs_background": "light"
     },
     "output_type": "display_data"
    }
   ],
   "source": [
    "# Making barplots showing covered, not covered and pushed values for \n",
    "# favorite team, home and away\n",
    "labels = cover_records_joined.index\n",
    "df = cover_records_joined\n",
    "\n",
    "# Set x axis and tick locations\n",
    "x_axis = np.arange(len(labels))\n",
    "tick_locations = [value+0.2 for value in x_axis]\n",
    "\n",
    "#set fig size, x-axis, y\n",
    "plt.figure(figsize=(20,8))\n",
    "\n",
    "width = 0.3\n",
    "#plot covered data\n",
    "plt.bar(x_axis - width, df['Home covered'],width = width, color='r', alpha=0.5, align=\"edge\", label = 'covered')\n",
    "plt.xticks(tick_locations, df.index, rotation=\"vertical\", fontsize=16)\n",
    "\n",
    "plt.bar(x_axis, df['Home not covered'],width = width, color='b', alpha=0.5, align=\"edge\", label = 'not covered')\n",
    "plt.xticks(tick_locations, df.index, rotation=\"vertical\")\n",
    "\n",
    "plt.bar(x_axis + width, df['Home pushed'],width = width, color='g', alpha=0.5, align=\"edge\", label = 'pushed')\n",
    "plt.xticks(tick_locations, df.index, rotation=\"vertical\")\n",
    "\n",
    "# Set x and y limits\n",
    "plt.xlim(-0.25, len(x_axis))\n",
    "plt.ylim(0, max(df[\"Home covered\"])+10)\n",
    "\n",
    "# Set a Title and labels\n",
    "plt.title(\"NFL home team performance relative to the spread\", fontdict = {'fontsize' : 25})\n",
    "plt.xlabel(\"Favored Team\", fontdict = {'fontsize' : 18})\n",
    "plt.ylabel(\"Games\",  fontdict = {'fontsize' : 18})\n",
    "\n",
    "plt.legend(loc = 'upper left')\n",
    "plt.savefig('home_cover_bar.png')\n",
    "plt.show()\n",
    "\n",
    "\n",
    "#plot away covered data\n",
    "\n",
    "# Set x axis and tick locations\n",
    "x_axis = np.arange(len(labels))\n",
    "tick_locations = [value+0.2 for value in x_axis]\n",
    "\n",
    "#set fig size, x-axis, y\n",
    "plt.figure(figsize=(20,8))\n",
    "\n",
    "width = 0.3\n",
    "\n",
    "df = cover_records_joined\n",
    "\n",
    "plt.bar(x_axis - width, df['Away covered'],width = width, color='r', alpha=0.5, align=\"edge\", label = 'covered')\n",
    "plt.xticks(tick_locations, df.index, rotation=\"vertical\", fontsize = 16)\n",
    "\n",
    "plt.bar(x_axis, df['Away not covered'],width = width, color='b', alpha=0.5, align=\"edge\", label = 'not covered')\n",
    "plt.xticks(tick_locations, df.index, rotation=\"vertical\")\n",
    "\n",
    "plt.bar(x_axis + width, df['Away pushed'],width = width, color='g', alpha=0.5, align=\"edge\", label = 'pushed')\n",
    "plt.xticks(tick_locations, df.index, rotation=\"vertical\",)\n",
    "\n",
    "# Set x and y limits\n",
    "plt.xlim(-0.25, len(x_axis))\n",
    "plt.ylim(0, max(df[\"Away covered\"])+10)\n",
    "\n",
    "# Set a Title and labels\n",
    "plt.title(\"NFL away team performance relative to the spread\", fontdict = {'fontsize' : 25})\n",
    "plt.xlabel(\"Favored Team\", fontdict = {'fontsize' : 18})\n",
    "plt.ylabel(\"Games\",  fontdict = {'fontsize' : 18})\n",
    "\n",
    "plt.legend(loc = 'upper left')\n",
    "plt.savefig('away_cover_bar.png')\n",
    "plt.show()\n"
   ]
  },
  {
   "cell_type": "code",
   "execution_count": null,
   "metadata": {},
   "outputs": [],
   "source": []
  }
 ],
 "metadata": {
  "kernelspec": {
   "display_name": "Python [conda env:PythonData] *",
   "language": "python",
   "name": "conda-env-PythonData-py"
  },
  "language_info": {
   "codemirror_mode": {
    "name": "ipython",
    "version": 3
   },
   "file_extension": ".py",
   "mimetype": "text/x-python",
   "name": "python",
   "nbconvert_exporter": "python",
   "pygments_lexer": "ipython3",
   "version": "3.6.10"
  }
 },
 "nbformat": 4,
 "nbformat_minor": 4
}
