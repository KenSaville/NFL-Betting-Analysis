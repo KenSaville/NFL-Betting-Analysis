{
 "cells": [
  {
   "cell_type": "code",
   "execution_count": null,
   "metadata": {},
   "outputs": [],
   "source": [
    "# Dependencies and Setup\n",
    "import pandas as pd\n",
    "\n",
    "\n",
    "import matplotlib.pyplot as plt\n",
    "import scipy.stats as st\n",
    "pd.set_option(\"display.precision\", 2)\n",
    "import numpy as np\n",
    "from scipy import stats\n",
    "import os\n",
    "import datetime as dt\n",
    "import random\n",
    "from scipy.stats import linregress\n",
    "import scipy.stats as stats\n",
    "import seaborn as sns\n"
   ]
  },
  {
   "cell_type": "code",
   "execution_count": null,
   "metadata": {},
   "outputs": [],
   "source": [
    "#set working directory\n",
    "os.chdir(\"C://Users//ksaville//Desktop/NFL-Betting-Analysis/\")\n",
    "os.getcwd()\n",
    "nfl = pd.read_csv(\"raw_data/spreadspoke_scores.csv\")"
   ]
  },
  {
   "cell_type": "markdown",
   "metadata": {},
   "source": [
    "# Introduction:  \n",
    "\n",
    "The data for this analysis was obtained from https://www.kaggle.com/tobycrabtree/nfl-scores-and-betting-data.  Below is the desription of this data from Kaggle.\n",
    "\n",
    "National Football League (NFL) game results since 1966 with betting odds information since 1979. Dataset was created from a variety of sources including games and scores from a variety of public websites such as ESPN, NFL.com, and Pro Football Reference. Weather information is from NOAA data with NFLweather.com a good cross reference. Betting data was used from http://www.repole.com/sun4cast/data.html for 1978-2013 seasons. Pro-football-reference.com data was then cross referenced for betting lines and odds as well as weather data. From 2013 on betting data reflects lines available at sportsline.com.\n",
    "\n",
    "Our goal is to investigate the performance of teams relative to the betting spread and over/under line as well as to investigate the potential effects of weather on overall scoring."
   ]
  },
  {
   "cell_type": "markdown",
   "metadata": {},
   "source": [
    "# Exploring the Data"
   ]
  },
  {
   "cell_type": "code",
   "execution_count": null,
   "metadata": {},
   "outputs": [],
   "source": [
    "nfl.shape\n",
    "\n",
    "#shows there are 17 columns and 12934 rows of data"
   ]
  },
  {
   "cell_type": "code",
   "execution_count": null,
   "metadata": {},
   "outputs": [],
   "source": [
    "nfl.head()\n",
    "\n",
    "#Shows that the first games were from 1966.  (note: Betting info is only available starting in 1979)"
   ]
  },
  {
   "cell_type": "code",
   "execution_count": null,
   "metadata": {},
   "outputs": [],
   "source": [
    "nfl.columns\n",
    "# shows the names of all the columns"
   ]
  },
  {
   "cell_type": "code",
   "execution_count": null,
   "metadata": {},
   "outputs": [],
   "source": [
    "#Check data types\n",
    "nfl.dtypes\n",
    "# Note - schedule date, week, over_under line, and humidity are object type.  \n",
    "# May need to change this to date format in subsequent analyses"
   ]
  },
  {
   "cell_type": "code",
   "execution_count": null,
   "metadata": {},
   "outputs": [],
   "source": [
    "#check to see of there are null values in the data\n",
    "nfl.isnull().sum()\n",
    "# yes there are:  137 in score_home and score_away, \n",
    "#2616 in team favorite, spread favorite\n",
    "#2626 in over_under.This probably reflects that betting data wasn't included before 1979\n",
    "# not sure about the 2626 vs 2616 discrepancy\n",
    "# 926 in weather_temp, weather_wind\n",
    "#4546 in humidity\n",
    "#10233 in weather_detail (this means rain, snow, fog, etc.)\n",
    "\n",
    "#Drop nas\n",
    "nfl = nfl.dropna(subset=['weather_temperature', 'weather_wind_mph', 'score_home', 'score_away'])\n",
    "print(nfl.isnull().sum())"
   ]
  },
  {
   "cell_type": "code",
   "execution_count": null,
   "metadata": {},
   "outputs": [],
   "source": [
    "#Check out some basic statistics\n",
    "nfl.describe()"
   ]
  },
  {
   "cell_type": "code",
   "execution_count": null,
   "metadata": {},
   "outputs": [],
   "source": [
    "nfl.head()"
   ]
  },
  {
   "cell_type": "code",
   "execution_count": null,
   "metadata": {},
   "outputs": [],
   "source": [
    "#convert schedule_date to date format\n",
    "nfl['schedule_date']=pd.to_datetime(nfl['schedule_date'])\n",
    "\n",
    "# convert over_under line to float\n",
    "nfl[\"over_under_line\"] = pd.to_numeric(nfl[\"over_under_line\"], errors='coerce')\n",
    "\n",
    "#check to see that the above worked\n",
    "#nfl.dtypes\n",
    "#nfl.head()"
   ]
  },
  {
   "cell_type": "code",
   "execution_count": null,
   "metadata": {},
   "outputs": [],
   "source": [
    "#Make a boxplot for away scores and home scores (after nulls have been dropped)\n",
    "\n",
    "scores = [nfl['score_home'], nfl['score_away']]\n",
    "\n",
    "fig = plt.figure(figsize =(10, 10)) \n",
    "  \n",
    "# Creating axes instance \n",
    "ax = fig.add_axes([0, 0, 1, 1]) \n",
    "  \n",
    "# Creating plot \n",
    "bp = ax.boxplot(scores, patch_artist = True)\n",
    "\n",
    "# fill with colors - not quite sure how this works, just trying things from google searches\n",
    "colors = ['lightgreen', 'lightblue']\n",
    "\n",
    "for patch, color in zip(bp['boxes'], colors):\n",
    "        patch.set_facecolor(color)\n",
    "\n",
    "ax.set_xticklabels(['Home Scores', 'Away Scores']) \n",
    "\n",
    "plt.title(\"A comparison of home and away NFL scores from seasons 1966-2019\") \n",
    "\n"
   ]
  },
  {
   "cell_type": "code",
   "execution_count": null,
   "metadata": {},
   "outputs": [],
   "source": [
    "#compare means and do a t-test\n",
    "\n",
    "home_mean = round(np.mean(nfl[\"score_home\"]),2)\n",
    "away_mean = round(np.mean(nfl[\"score_away\"]),2)\n",
    "diff = round(home_mean - away_mean,2)\n",
    "\n",
    "print(f'Home mean score = {home_mean}; Away mean score = {away_mean}')\n",
    "print(f'The difference in means is:  {diff}')\n",
    "\n",
    "print(\"Is this a significant difference?\")\n",
    "\n",
    "print(\"Yes the mean diff is significant\")\n",
    "stats.ttest_ind(nfl['score_home'], nfl['score_away'])"
   ]
  },
  {
   "cell_type": "code",
   "execution_count": null,
   "metadata": {},
   "outputs": [],
   "source": [
    "#make a scatter plot for home and away scores as a function of temperature and wind speed.\n",
    "# use function for making scatter plots\n",
    "#Define function for making  scatter plots\n",
    "\n",
    "def make_scatter_plot(df, x_col, y_col):\n",
    "    \"This creates a scatter plot given a list of x values, y values, x label, y label and title\"\n",
    "    x = df[x_col]\n",
    "    y = df[y_col]\n",
    "  \n",
    "    \n",
    "    #generating random number to be included in fig name so that new figure is unlikely to \n",
    "    #be named the same as a previous figure \n",
    "    \n",
    "    #fig_num = random.randint(1, 100)\n",
    "    plt.figure(figsize=(20,10))\n",
    "    plt.scatter(x, y)\n",
    "    plt.xlabel(x_col)\n",
    "    plt.ylabel(y_col)\n",
    "    plt.title(f\"{y_col} as a function of {x_col}\")\n",
    "    plt.ylim(min(y)-10,max(y)+10)\n",
    "    plt.savefig(f\"{x_col}_{y_col}.png\")\n",
    "   \n",
    "    linregress(x,y)\n",
    "    reg = linregress(x,y)\n",
    "    reg_line = reg[0]*x + reg[1]\n",
    "\n",
    "    plt.plot(x,reg_line, color=\"red\")\n",
    "    r_squared = round(reg[2]**2,2)\n",
    "    print(f\"r squared = {r_squared}\")\n",
    "    \n",
    "    return plt\n",
    "\n"
   ]
  },
  {
   "cell_type": "code",
   "execution_count": null,
   "metadata": {},
   "outputs": [],
   "source": [
    "make_scatter_plot(nfl,'weather_temperature','score_home' )"
   ]
  },
  {
   "cell_type": "code",
   "execution_count": null,
   "metadata": {},
   "outputs": [],
   "source": [
    "make_scatter_plot(nfl,'weather_temperature','score_away' )\n",
    "plt.xlabel('xlabel')\n",
    "plt.title('Title')\n",
    "plt.show()"
   ]
  },
  {
   "cell_type": "code",
   "execution_count": null,
   "metadata": {},
   "outputs": [],
   "source": [
    "make_scatter_plot(nfl,'weather_wind_mph','score_home' )"
   ]
  },
  {
   "cell_type": "code",
   "execution_count": null,
   "metadata": {},
   "outputs": [],
   "source": [
    "make_scatter_plot(nfl,'weather_wind_mph','score_away' )"
   ]
  },
  {
   "cell_type": "code",
   "execution_count": null,
   "metadata": {},
   "outputs": [],
   "source": [
    "#change data frame to only games after 1979\n",
    "\n",
    "nfl_1979 = nfl[nfl['schedule_season']>= 1979]\n",
    "\n",
    "# remove humidity column\n",
    "del nfl_1979['weather_humidity']"
   ]
  },
  {
   "cell_type": "code",
   "execution_count": null,
   "metadata": {},
   "outputs": [],
   "source": [
    "#check dataframe for nulls\n",
    "nfl_1979.isnull().sum()"
   ]
  },
  {
   "cell_type": "code",
   "execution_count": null,
   "metadata": {},
   "outputs": [],
   "source": [
    "nfl_1979.dtypes"
   ]
  },
  {
   "cell_type": "code",
   "execution_count": null,
   "metadata": {},
   "outputs": [],
   "source": [
    "nfl_1979['Total'] = nfl_1979['score_home'] + nfl_1979['score_away']"
   ]
  },
  {
   "cell_type": "code",
   "execution_count": null,
   "metadata": {},
   "outputs": [],
   "source": [
    "nfl_1979.head()"
   ]
  },
  {
   "cell_type": "code",
   "execution_count": null,
   "metadata": {},
   "outputs": [],
   "source": [
    "nfl_1979.dtypes"
   ]
  },
  {
   "cell_type": "code",
   "execution_count": null,
   "metadata": {},
   "outputs": [],
   "source": [
    "#calnumber of games that were over or under the over_under line. \n",
    "for index, row in nfl_1979.iterrows():\n",
    "    total = row[16]\n",
    "    line = row[10]\n",
    "    if total > line:\n",
    "        nfl_1979.loc[index,'OverUnder'] = 'over'\n",
    "    elif total < line:\n",
    "        nfl_1979.loc[index,'OverUnder'] = 'under'\n",
    "    else:\n",
    "        nfl_1979.loc[index,'OverUnder'] = 'push'\n",
    "\n",
    "nfl_1979.head()"
   ]
  },
  {
   "cell_type": "code",
   "execution_count": null,
   "metadata": {},
   "outputs": [],
   "source": [
    "gby_OU = nfl_1979.groupby('OverUnder')"
   ]
  },
  {
   "cell_type": "code",
   "execution_count": null,
   "metadata": {},
   "outputs": [],
   "source": [
    "over_under_count = gby_OU['team_home'].count()\n",
    "over_under_count"
   ]
  },
  {
   "cell_type": "code",
   "execution_count": null,
   "metadata": {},
   "outputs": [],
   "source": [
    "# Pie chart, where the slices will be ordered and plotted counter-clockwise:\n",
    "labels = ['Over', 'Push', 'Under']\n",
    "sizes = over_under_count\n",
    "colors = ['#008fd5', '#e5ae37', '#fc4f30']\n",
    "\n",
    "fig1, ax1 = plt.subplots()\n",
    "ax1.pie(sizes, labels=labels, autopct='%1.1f%%',\n",
    "        shadow=True, startangle=360, wedgeprops={'edgecolor':'black'}, colors=colors,\n",
    "        pctdistance = 0.8, labeldistance = 1.2)\n",
    "ax1.axis('equal')  # Equal aspect ratio ensures that pie is drawn as a circle.\n",
    "ax1.set_title('Scores of NFL games relative to Over/Under line', pad =30)\n",
    "plt.tight_layout()\n",
    "#plt.style.use(\"seaborn-colorblind\") - this didn't seem to make a difference\n",
    "plt.xkcd\n",
    "plt.show()\n",
    "#plt.savefig(\"over_under_pie.png\")\n"
   ]
  },
  {
   "cell_type": "code",
   "execution_count": null,
   "metadata": {},
   "outputs": [],
   "source": [
    "ax = sns.countplot(x=\"team_home\", hue = 'OverUnder', data=nfl_1979)"
   ]
  },
  {
   "cell_type": "code",
   "execution_count": null,
   "metadata": {},
   "outputs": [],
   "source": [
    "# Change names to team ids\n",
    "nfl_1979.columns"
   ]
  },
  {
   "cell_type": "code",
   "execution_count": null,
   "metadata": {},
   "outputs": [],
   "source": []
  },
  {
   "cell_type": "code",
   "execution_count": null,
   "metadata": {},
   "outputs": [],
   "source": [
    "#rename all team names to team_ids.  combining names for teams that have changed cities.\n",
    "\n",
    "nfl_1979 = nfl_1979.replace({'Arizona Cardinals':'ARI',\n",
    "'Phoenix Cardinals':'ARI',\n",
    "'St. Louis Cardinals':'ARI',\n",
    "'Atlanta Falcons':'ATL',\n",
    "'Baltimore Ravens':'BAL',\n",
    "'Buffalo Bills':'BUF',\n",
    "'Carolina Panthers':'CAR',\n",
    "'Chicago Bears':'CHI',\n",
    "'Cincinnati Bengals': 'CIN',\n",
    "'Cleveland Browns':'CLE',\n",
    "'Dallas Cowboys':'DAL',\n",
    "'Denver Broncos':'DEN',\n",
    "'Detroit Lions':'DET',\n",
    "'Green Bay Packers':'GB',\n",
    "'Houston Texans':'HOU',\n",
    "'Baltimore Colts':'IND',\n",
    "'Indianapolis Colts':'IND',\n",
    "'Jacksonville Jaguars':'JAX',\n",
    "'Kansas City Chiefs':'KC',\n",
    "'Los Angeles Chargers':'LAC',\n",
    "'San Diego Chargers':'LAC',\n",
    "'Los Angeles Rams':'LAR',\n",
    "'St. Louis Rams':'LAR',\n",
    "'Miami Dolphins':'MIA',\n",
    "'Minnesota Vikings':'MIN',\n",
    "'New England Patriots':'NE',\n",
    "'Boston Patriots':'NE',\n",
    "'New Orleans Saints':'NO',\n",
    "'New York Giants':'NYG',\n",
    "'New York Jets':'NYJ',\n",
    "'Los Angeles Raiders':'OAK',\n",
    "'Oakland Raiders':'OAK',\n",
    "'Philadelphia Eagles':'PHI',\n",
    "'Pittsburgh Steelers':'PIT',\n",
    "'Seattle Seahawks':'SEA',\n",
    "'San Francisco 49ers':'SF',\n",
    "'Tampa Bay Buccaneers':'TB',\n",
    "'Houston Oilers':'TEN',\n",
    "'Tennessee Oilers':'TEN',\n",
    "'Tennessee Titans':'TEN',\n",
    "'Washington Football Team':'WAS',\n",
    "'Washington Redskins':'WAS'})\n",
    "\n",
    "nfl_1979 = nfl_1979.reset_index()\n",
    "del nfl_1979['index']\n",
    "\n",
    "nfl_1979.head()"
   ]
  },
  {
   "cell_type": "code",
   "execution_count": null,
   "metadata": {},
   "outputs": [],
   "source": [
    "nfl_1979['team_favorite_id']"
   ]
  },
  {
   "cell_type": "code",
   "execution_count": null,
   "metadata": {},
   "outputs": [],
   "source": [
    "# calc performance against spread:\n",
    "#fav team points - other team points\n",
    "\n",
    "#example using first game \n",
    "#(det vs TB, TB favored by 3, score: score_home 31.0, score_away 16.0  )\n",
    "\n",
    "\n",
    "# record cover as win, lose , push\n",
    "for index, row in nfl_1979.iterrows():\n",
    "    home_team = row[4]\n",
    "    away_team = row[7]\n",
    "    fav_team = row[8]\n",
    "    home_score = row[5]\n",
    "    away_score = row[6]\n",
    "    spread = row[9]\n",
    "    if home_team == fav_team:\n",
    "        fav_score = home_score + spread\n",
    "        diff = fav_score - away_score\n",
    "    elif away_team == fav_team:\n",
    "        fav_score = away_score + spread\n",
    "        diff = fav_score - home_score\n",
    "    \n",
    "    nfl_1979.loc[index,'Spread Diff'] = diff\n",
    "    if diff > 0:\n",
    "        nfl_1979.loc[index,'Cover'] = 'yes'\n",
    "    elif diff < 0:\n",
    "        nfl_1979.loc[index,'Cover'] = 'no'\n",
    "    else:\n",
    "        nfl_1979.loc[index,'Cover'] = 'push'\n",
    "    "
   ]
  },
  {
   "cell_type": "code",
   "execution_count": null,
   "metadata": {},
   "outputs": [],
   "source": [
    "#deleted stadium_neutral and weather_detail columns\n",
    "nfl_1979.columns\n",
    "del(nfl_1979['stadium_neutral'])\n",
    "del(nfl_1979['weather_detail'])"
   ]
  },
  {
   "cell_type": "code",
   "execution_count": null,
   "metadata": {},
   "outputs": [],
   "source": [
    "#trying to filter out covered from not covered etc.\n",
    "nfl_1979.head()\n",
    "\n",
    "home_team = nfl_1979['team_home']\n",
    "cover = nfl_1979['Cover']\n",
    "\n",
    "\n",
    "\n"
   ]
  },
  {
   "cell_type": "code",
   "execution_count": null,
   "metadata": {},
   "outputs": [],
   "source": [
    "nfl_1979['Cover'].value_counts()\n",
    "ax = sns.countplot(x=\"team_home\", hue = 'Cover', data=nfl_year_cover_home)\n",
    "\n",
    "\n",
    "#nfl_1979.head()"
   ]
  },
  {
   "cell_type": "code",
   "execution_count": null,
   "metadata": {},
   "outputs": [],
   "source": [
    "   \n",
    "    home_records = {}\n",
    "    away_records = {}\n",
    "    \n",
    "    for index, row in nfl_1979.iterrows():\n",
    "        home_team = row[4]\n",
    "        away_team = row[7]\n",
    "        fav_team = row[8]\n",
    "        cover = row[17]\n",
    "    \n",
    "        if home_team == fav_team:\n",
    "            if home_team not in home_records:\n",
    "                home_records[home_team] = [0,0,0] \n",
    "         \n",
    "            if cover == 'yes':\n",
    "                home_records[home_team][0] += 1 \n",
    "            \n",
    "            if cover == 'no':\n",
    "                home_records[home_team][1] += 1 \n",
    "            \n",
    "            if cover == 'push':\n",
    "                home_records[home_team][2] += 1 \n",
    "                \n",
    "        if away_team == fav_team:\n",
    "            if away_team not in away_records:\n",
    "                away_records[away_team] = [0,0,0] \n",
    "         \n",
    "            if cover == 'yes':\n",
    "                away_records[away_team][0] += 1 \n",
    "            \n",
    "            if cover == 'no':\n",
    "                away_records[away_team][1] += 1 \n",
    "            \n",
    "            if cover == 'push':\n",
    "                away_records[away_team][2] += 1 \n",
    "            \n",
    "            \n",
    "home_records_df = pd.DataFrame(home_records).T\n",
    "    \n",
    "away_records_df = pd.DataFrame(away_records).T\n",
    "    \n",
    "home_records_df.columns = ['Home covered', 'Home not covered', 'Home pushed']\n",
    "    \n",
    "#home_records_df.loc['DET']\n",
    "\n",
    "away_records_df.columns = ['Away covered', 'Away not covered', 'Away pushed']\n",
    "\n",
    "\n",
    "   \n",
    "print(away_records_df.head())\n",
    "\n",
    "home_records_df.sort_index(inplace = True)\n",
    "\n",
    "#print(home_records_df.head())\n",
    "\n",
    "\n",
    "\n",
    "#home_records_df.head()\n",
    "cover_records_joined = home_records_df.join(away_records_df, on=None, how='left', lsuffix='', rsuffix='', sort=False)\n",
    "   \n",
    "cover_records_joined.head()\n",
    "    \n",
    "\n",
    "#cover_records_joined.plot(kind='barh')                    \n",
    "            \n",
    "       \n",
    "        \n",
    "cover_records_joined.head()\n",
    "            \n",
    "                \n",
    "           \n",
    "    \n",
    "    \n"
   ]
  },
  {
   "cell_type": "code",
   "execution_count": null,
   "metadata": {},
   "outputs": [],
   "source": [
    "\n",
    "labels = cover_records_joined.index\n",
    "df = cover_records_joined\n",
    "\n",
    "# Set x axis and tick locations\n",
    "x_axis = np.arange(len(labels))\n",
    "tick_locations = [value+0.4 for value in x_axis]\n",
    "\n",
    "#set fig size, x-axis, y\n",
    "plt.figure(figsize=(20,8))\n",
    "\n",
    "width = 0.3\n",
    "#plot covered data\n",
    "plt.bar(x_axis - width, df['Home covered'],width = width, color='r', alpha=0.5, align=\"edge\", label = 'covered')\n",
    "plt.xticks(tick_locations, df.index, rotation=\"vertical\")\n",
    "\n",
    "plt.bar(x_axis, df['Home not covered'],width = width, color='b', alpha=0.5, align=\"edge\", label = 'not covered')\n",
    "plt.xticks(tick_locations, df.index, rotation=\"vertical\")\n",
    "\n",
    "plt.bar(x_axis + width, df['Home pushed'],width = width, color='g', alpha=0.5, align=\"edge\", label = 'pushed')\n",
    "plt.xticks(tick_locations, df.index, rotation=\"vertical\")\n",
    "\n",
    "# Set x and y limits\n",
    "plt.xlim(-0.25, len(x_axis))\n",
    "plt.ylim(0, max(df[\"Home covered\"])+10)\n",
    "\n",
    "# Set a Title and labels\n",
    "plt.title(\"NFL home team performance relative to the spread\", fontdict = {'fontsize' : 25})\n",
    "plt.xlabel(\"Favored Team\", fontdict = {'fontsize' : 18})\n",
    "plt.ylabel(\"Games\",  fontdict = {'fontsize' : 18})\n",
    "\n",
    "plt.legend(loc = 'upper left')\n",
    "plt.savefig('home_cover_bar.png')\n",
    "plt.show()\n",
    "\n",
    "\n",
    "#plot away covered data\n",
    "\n",
    "# Set x axis and tick locations\n",
    "x_axis = np.arange(len(labels))\n",
    "tick_locations = [value+0.4 for value in x_axis]\n",
    "\n",
    "#set fig size, x-axis, y\n",
    "plt.figure(figsize=(20,8))\n",
    "\n",
    "width = 0.3\n",
    "\n",
    "df = cover_records_joined\n",
    "\n",
    "plt.bar(x_axis - width, df['Away covered'],width = width, color='r', alpha=0.5, align=\"edge\", label = 'covered')\n",
    "plt.xticks(tick_locations, df.index, rotation=\"vertical\")\n",
    "\n",
    "plt.bar(x_axis, df['Away not covered'],width = width, color='b', alpha=0.5, align=\"edge\", label = 'not covered')\n",
    "plt.xticks(tick_locations, df.index, rotation=\"vertical\")\n",
    "\n",
    "plt.bar(x_axis + width, df['Away pushed'],width = width, color='g', alpha=0.5, align=\"edge\", label = 'pushed')\n",
    "plt.xticks(tick_locations, df.index, rotation=\"vertical\")\n",
    "\n",
    "# Set x and y limits\n",
    "plt.xlim(-0.25, len(x_axis))\n",
    "plt.ylim(0, max(df[\"Away covered\"])+10)\n",
    "\n",
    "# Set a Title and labels\n",
    "plt.title(\"NFL away team performance relative to the spread\", fontdict = {'fontsize' : 25})\n",
    "plt.xlabel(\"Favored Team\", fontdict = {'fontsize' : 18})\n",
    "plt.ylabel(\"Games\",  fontdict = {'fontsize' : 18})\n",
    "\n",
    "plt.legend(loc = 'upper left')\n",
    "plt.savefig('away_cover_bar.png')\n",
    "plt.show()\n"
   ]
  },
  {
   "cell_type": "code",
   "execution_count": null,
   "metadata": {},
   "outputs": [],
   "source": [
    "os.getcwd()"
   ]
  },
  {
   "cell_type": "code",
   "execution_count": null,
   "metadata": {},
   "outputs": [],
   "source": []
  }
 ],
 "metadata": {
  "kernelspec": {
   "display_name": "Python [conda env:PythonData] *",
   "language": "python",
   "name": "conda-env-PythonData-py"
  },
  "language_info": {
   "codemirror_mode": {
    "name": "ipython",
    "version": 3
   },
   "file_extension": ".py",
   "mimetype": "text/x-python",
   "name": "python",
   "nbconvert_exporter": "python",
   "pygments_lexer": "ipython3",
   "version": "3.6.10"
  }
 },
 "nbformat": 4,
 "nbformat_minor": 4
}
